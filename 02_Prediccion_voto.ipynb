{
 "cells": [
  {
   "cell_type": "code",
   "execution_count": 161,
   "metadata": {},
   "outputs": [],
   "source": [
    "import pandas as pd\n",
    "import numpy as np\n",
    "from matplotlib import pyplot as plt\n",
    "from sklearn.cross_validation import train_test_split\n",
    "from sklearn.ensemble import RandomForestClassifier\n",
    "from sklearn.ensemble import GradientBoostingClassifier\n",
    "%matplotlib notebook"
   ]
  },
  {
   "cell_type": "code",
   "execution_count": 61,
   "metadata": {},
   "outputs": [
    {
     "data": {
      "text/html": [
       "<div>\n",
       "<style scoped>\n",
       "    .dataframe tbody tr th:only-of-type {\n",
       "        vertical-align: middle;\n",
       "    }\n",
       "\n",
       "    .dataframe tbody tr th {\n",
       "        vertical-align: top;\n",
       "    }\n",
       "\n",
       "    .dataframe thead th {\n",
       "        text-align: right;\n",
       "    }\n",
       "</style>\n",
       "<table border=\"1\" class=\"dataframe\">\n",
       "  <thead>\n",
       "    <tr style=\"text-align: right;\">\n",
       "      <th></th>\n",
       "      <th>Unnamed: 0</th>\n",
       "      <th>AUT</th>\n",
       "      <th>CMUNI</th>\n",
       "      <th>CONEIX_ABASCAL</th>\n",
       "      <th>CONEIX_CASADO</th>\n",
       "      <th>CONEIX_IGLESIAS</th>\n",
       "      <th>CONEIX_RIVERA</th>\n",
       "      <th>CONEIX_SANCHEZ</th>\n",
       "      <th>CP</th>\n",
       "      <th>EDAT</th>\n",
       "      <th>...</th>\n",
       "      <th>REC_GEN</th>\n",
       "      <th>REGISTRO</th>\n",
       "      <th>SEXE</th>\n",
       "      <th>SIMP_GEN</th>\n",
       "      <th>TIP_TEL</th>\n",
       "      <th>VAL_ABASCAL</th>\n",
       "      <th>VAL_CASADO</th>\n",
       "      <th>VAL_IGLESIAS</th>\n",
       "      <th>VAL_RIVERA</th>\n",
       "      <th>VAL_SANCHEZ</th>\n",
       "    </tr>\n",
       "  </thead>\n",
       "  <tbody>\n",
       "    <tr>\n",
       "      <th>0</th>\n",
       "      <td>0</td>\n",
       "      <td>Madrid, Comunidad de</td>\n",
       "      <td>28079</td>\n",
       "      <td>Sí</td>\n",
       "      <td>Sí</td>\n",
       "      <td>Sí</td>\n",
       "      <td>Sí</td>\n",
       "      <td>Sí</td>\n",
       "      <td>28053</td>\n",
       "      <td>29</td>\n",
       "      <td>...</td>\n",
       "      <td>PP</td>\n",
       "      <td>4</td>\n",
       "      <td>Mujer</td>\n",
       "      <td>PP</td>\n",
       "      <td>Móviles aleatorios</td>\n",
       "      <td>4.0</td>\n",
       "      <td>3.0</td>\n",
       "      <td>0.0</td>\n",
       "      <td>5.000000</td>\n",
       "      <td>1.0</td>\n",
       "    </tr>\n",
       "    <tr>\n",
       "      <th>1</th>\n",
       "      <td>1</td>\n",
       "      <td>Madrid, Comunidad de</td>\n",
       "      <td>28079</td>\n",
       "      <td>Sí</td>\n",
       "      <td>Sí</td>\n",
       "      <td>Sí</td>\n",
       "      <td>Sí</td>\n",
       "      <td>Sí</td>\n",
       "      <td>28017</td>\n",
       "      <td>41</td>\n",
       "      <td>...</td>\n",
       "      <td>C's</td>\n",
       "      <td>5</td>\n",
       "      <td>Mujer</td>\n",
       "      <td>C's</td>\n",
       "      <td>Móviles aleatorios</td>\n",
       "      <td>0.0</td>\n",
       "      <td>1.0</td>\n",
       "      <td>3.0</td>\n",
       "      <td>4.000000</td>\n",
       "      <td>4.0</td>\n",
       "    </tr>\n",
       "    <tr>\n",
       "      <th>2</th>\n",
       "      <td>2</td>\n",
       "      <td>Madrid, Comunidad de</td>\n",
       "      <td>28079</td>\n",
       "      <td>Sí</td>\n",
       "      <td>Sí</td>\n",
       "      <td>Sí</td>\n",
       "      <td>Sí</td>\n",
       "      <td>Sí</td>\n",
       "      <td>28043</td>\n",
       "      <td>50</td>\n",
       "      <td>...</td>\n",
       "      <td>No votó</td>\n",
       "      <td>6</td>\n",
       "      <td>Hombre</td>\n",
       "      <td>Ninguno</td>\n",
       "      <td>Móviles aleatorios</td>\n",
       "      <td>5.0</td>\n",
       "      <td>5.0</td>\n",
       "      <td>5.0</td>\n",
       "      <td>7.535226</td>\n",
       "      <td>5.0</td>\n",
       "    </tr>\n",
       "    <tr>\n",
       "      <th>3</th>\n",
       "      <td>3</td>\n",
       "      <td>Galicia</td>\n",
       "      <td>99995</td>\n",
       "      <td>Sí</td>\n",
       "      <td>Sí</td>\n",
       "      <td>Sí</td>\n",
       "      <td>Sí</td>\n",
       "      <td>Sí</td>\n",
       "      <td>36001</td>\n",
       "      <td>46</td>\n",
       "      <td>...</td>\n",
       "      <td>PP</td>\n",
       "      <td>27</td>\n",
       "      <td>Mujer</td>\n",
       "      <td></td>\n",
       "      <td>Móviles aleatorios</td>\n",
       "      <td>2.0</td>\n",
       "      <td>7.0</td>\n",
       "      <td>0.0</td>\n",
       "      <td>5.000000</td>\n",
       "      <td>0.0</td>\n",
       "    </tr>\n",
       "    <tr>\n",
       "      <th>4</th>\n",
       "      <td>4</td>\n",
       "      <td>Madrid, Comunidad de</td>\n",
       "      <td>28079</td>\n",
       "      <td>Sí</td>\n",
       "      <td>Sí</td>\n",
       "      <td>Sí</td>\n",
       "      <td>No</td>\n",
       "      <td>Sí</td>\n",
       "      <td>28021</td>\n",
       "      <td>48</td>\n",
       "      <td>...</td>\n",
       "      <td>No votó</td>\n",
       "      <td>28</td>\n",
       "      <td>Hombre</td>\n",
       "      <td></td>\n",
       "      <td>Móviles aleatorios</td>\n",
       "      <td>4.0</td>\n",
       "      <td>5.0</td>\n",
       "      <td>5.0</td>\n",
       "      <td>4.454060</td>\n",
       "      <td>10.0</td>\n",
       "    </tr>\n",
       "  </tbody>\n",
       "</table>\n",
       "<p>5 rows × 52 columns</p>\n",
       "</div>"
      ],
      "text/plain": [
       "   Unnamed: 0                   AUT  CMUNI CONEIX_ABASCAL CONEIX_CASADO  \\\n",
       "0           0  Madrid, Comunidad de  28079             Sí            Sí   \n",
       "1           1  Madrid, Comunidad de  28079             Sí            Sí   \n",
       "2           2  Madrid, Comunidad de  28079             Sí            Sí   \n",
       "3           3               Galicia  99995             Sí            Sí   \n",
       "4           4  Madrid, Comunidad de  28079             Sí            Sí   \n",
       "\n",
       "  CONEIX_IGLESIAS CONEIX_RIVERA CONEIX_SANCHEZ     CP  EDAT     ...       \\\n",
       "0              Sí            Sí             Sí  28053    29     ...        \n",
       "1              Sí            Sí             Sí  28017    41     ...        \n",
       "2              Sí            Sí             Sí  28043    50     ...        \n",
       "3              Sí            Sí             Sí  36001    46     ...        \n",
       "4              Sí            No             Sí  28021    48     ...        \n",
       "\n",
       "   REC_GEN REGISTRO    SEXE SIMP_GEN             TIP_TEL  VAL_ABASCAL  \\\n",
       "0       PP        4   Mujer       PP  Móviles aleatorios          4.0   \n",
       "1      C's        5   Mujer      C's  Móviles aleatorios          0.0   \n",
       "2  No votó        6  Hombre  Ninguno  Móviles aleatorios          5.0   \n",
       "3       PP       27   Mujer           Móviles aleatorios          2.0   \n",
       "4  No votó       28  Hombre           Móviles aleatorios          4.0   \n",
       "\n",
       "   VAL_CASADO  VAL_IGLESIAS  VAL_RIVERA  VAL_SANCHEZ  \n",
       "0         3.0           0.0    5.000000          1.0  \n",
       "1         1.0           3.0    4.000000          4.0  \n",
       "2         5.0           5.0    7.535226          5.0  \n",
       "3         7.0           0.0    5.000000          0.0  \n",
       "4         5.0           5.0    4.454060         10.0  \n",
       "\n",
       "[5 rows x 52 columns]"
      ]
     },
     "execution_count": 61,
     "metadata": {},
     "output_type": "execute_result"
    }
   ],
   "source": [
    "Dades_2019 = pd.read_csv('Enquestes2019.csv', sep=';', header=0, encoding='latin-1')\n",
    "Dades_2019.head()"
   ]
  },
  {
   "cell_type": "code",
   "execution_count": 3,
   "metadata": {},
   "outputs": [],
   "source": [
    "### Empezamos prediciendo el partido mayoritario"
   ]
  },
  {
   "cell_type": "code",
   "execution_count": 63,
   "metadata": {},
   "outputs": [],
   "source": [
    "X = Dades_2019[['ID_HABI', 'ID_AUT', 'CMUNI', 'ID_SEXE', 'EDAT', 'ID_IMP_ELEC',\n",
    "       'ID_REC_GEN', 'ID_CONEIX_CASADO',\n",
    "       'VAL_CASADO', 'ID_CONEIX_RIVERA', 'VAL_RIVERA',\n",
    "       'ID_CONEIX_SANCHEZ', 'VAL_SANCHEZ','ID_CONEIX_IGLESIAS', 'VAL_IGLESIAS',\n",
    "       'ID_CONEIX_ABASCAL', 'VAL_ABASCAL',\n",
    "       'ID_PREFER_POLITIC', 'ID_IDEOLOGIA', 'ID_PERTINEN', 'ID_ESTUDIS', 'ID_OCUPACIO', 'CP']]\n",
    "y = Dades_2019[['INT_GEN']]"
   ]
  },
  {
   "cell_type": "code",
   "execution_count": 64,
   "metadata": {},
   "outputs": [],
   "source": [
    "X_train, X_test, y_train, y_test = train_test_split(X, y, test_size=0.2)"
   ]
  },
  {
   "cell_type": "code",
   "execution_count": 65,
   "metadata": {},
   "outputs": [],
   "source": [
    "X_val, X_test, y_val, y_test = train_test_split(X_test, y_test, test_size=0.5)"
   ]
  },
  {
   "cell_type": "code",
   "execution_count": 66,
   "metadata": {},
   "outputs": [
    {
     "data": {
      "text/plain": [
       "(1600, 24)"
      ]
     },
     "execution_count": 66,
     "metadata": {},
     "output_type": "execute_result"
    }
   ],
   "source": [
    "X_train.shape"
   ]
  },
  {
   "cell_type": "code",
   "execution_count": 67,
   "metadata": {},
   "outputs": [
    {
     "data": {
      "text/plain": [
       "(200, 24)"
      ]
     },
     "execution_count": 67,
     "metadata": {},
     "output_type": "execute_result"
    }
   ],
   "source": [
    "X_test.shape"
   ]
  },
  {
   "cell_type": "code",
   "execution_count": 68,
   "metadata": {},
   "outputs": [
    {
     "data": {
      "text/plain": [
       "(200, 24)"
      ]
     },
     "execution_count": 68,
     "metadata": {},
     "output_type": "execute_result"
    }
   ],
   "source": [
    "X_val.shape"
   ]
  },
  {
   "cell_type": "code",
   "execution_count": 85,
   "metadata": {},
   "outputs": [],
   "source": [
    "clf = RandomForestClassifier(n_estimators=100, max_depth=10,\n",
    "                             random_state=0)"
   ]
  },
  {
   "cell_type": "code",
   "execution_count": 86,
   "metadata": {},
   "outputs": [
    {
     "name": "stderr",
     "output_type": "stream",
     "text": [
      "C:\\Users\\Lau\\AppData\\Local\\Continuum\\anaconda3\\lib\\site-packages\\ipykernel_launcher.py:1: DataConversionWarning: A column-vector y was passed when a 1d array was expected. Please change the shape of y to (n_samples,), for example using ravel().\n",
      "  \"\"\"Entry point for launching an IPython kernel.\n"
     ]
    },
    {
     "data": {
      "text/plain": [
       "RandomForestClassifier(bootstrap=True, class_weight=None, criterion='gini',\n",
       "            max_depth=10, max_features='auto', max_leaf_nodes=None,\n",
       "            min_impurity_decrease=0.0, min_impurity_split=None,\n",
       "            min_samples_leaf=1, min_samples_split=2,\n",
       "            min_weight_fraction_leaf=0.0, n_estimators=100, n_jobs=1,\n",
       "            oob_score=False, random_state=0, verbose=0, warm_start=False)"
      ]
     },
     "execution_count": 86,
     "metadata": {},
     "output_type": "execute_result"
    }
   ],
   "source": [
    "clf.fit(X_train, y_train)"
   ]
  },
  {
   "cell_type": "code",
   "execution_count": 87,
   "metadata": {},
   "outputs": [
    {
     "data": {
      "text/plain": [
       "0.57"
      ]
     },
     "execution_count": 87,
     "metadata": {},
     "output_type": "execute_result"
    }
   ],
   "source": [
    "clf.score(X_val, y_val)"
   ]
  },
  {
   "cell_type": "code",
   "execution_count": 88,
   "metadata": {},
   "outputs": [
    {
     "data": {
      "text/plain": [
       "0.909375"
      ]
     },
     "execution_count": 88,
     "metadata": {},
     "output_type": "execute_result"
    }
   ],
   "source": [
    "clf.score(X_train, y_train)"
   ]
  },
  {
   "cell_type": "code",
   "execution_count": 89,
   "metadata": {},
   "outputs": [],
   "source": [
    "### score en train mayor, overfitting (memorizarse datos\"\")"
   ]
  },
  {
   "cell_type": "code",
   "execution_count": 152,
   "metadata": {},
   "outputs": [],
   "source": [
    "clf = RandomForestClassifier(n_estimators=40, max_depth=8,\n",
    "                             random_state=0, min_samples_leaf=25)"
   ]
  },
  {
   "cell_type": "code",
   "execution_count": 153,
   "metadata": {},
   "outputs": [
    {
     "name": "stderr",
     "output_type": "stream",
     "text": [
      "C:\\Users\\Lau\\AppData\\Local\\Continuum\\anaconda3\\lib\\site-packages\\ipykernel_launcher.py:1: DataConversionWarning: A column-vector y was passed when a 1d array was expected. Please change the shape of y to (n_samples,), for example using ravel().\n",
      "  \"\"\"Entry point for launching an IPython kernel.\n"
     ]
    },
    {
     "data": {
      "text/plain": [
       "RandomForestClassifier(bootstrap=True, class_weight=None, criterion='gini',\n",
       "            max_depth=8, max_features='auto', max_leaf_nodes=None,\n",
       "            min_impurity_decrease=0.0, min_impurity_split=None,\n",
       "            min_samples_leaf=25, min_samples_split=2,\n",
       "            min_weight_fraction_leaf=0.0, n_estimators=40, n_jobs=1,\n",
       "            oob_score=False, random_state=0, verbose=0, warm_start=False)"
      ]
     },
     "execution_count": 153,
     "metadata": {},
     "output_type": "execute_result"
    }
   ],
   "source": [
    "clf.fit(X_train, y_train)"
   ]
  },
  {
   "cell_type": "code",
   "execution_count": 159,
   "metadata": {},
   "outputs": [
    {
     "data": {
      "text/plain": [
       "0.585"
      ]
     },
     "execution_count": 159,
     "metadata": {},
     "output_type": "execute_result"
    }
   ],
   "source": [
    "clf.score(X_test, y_test)"
   ]
  },
  {
   "cell_type": "code",
   "execution_count": null,
   "metadata": {},
   "outputs": [],
   "source": [
    "# accuracy de 0.585 "
   ]
  },
  {
   "cell_type": "code",
   "execution_count": 154,
   "metadata": {},
   "outputs": [
    {
     "data": {
      "text/plain": [
       "0.51"
      ]
     },
     "execution_count": 154,
     "metadata": {},
     "output_type": "execute_result"
    }
   ],
   "source": [
    "clf.score(X_val, y_val)"
   ]
  },
  {
   "cell_type": "code",
   "execution_count": 155,
   "metadata": {},
   "outputs": [
    {
     "data": {
      "text/plain": [
       "0.59125"
      ]
     },
     "execution_count": 155,
     "metadata": {},
     "output_type": "execute_result"
    }
   ],
   "source": [
    "clf.score(X_train, y_train)"
   ]
  },
  {
   "cell_type": "code",
   "execution_count": 157,
   "metadata": {},
   "outputs": [
    {
     "data": {
      "text/html": [
       "<div>\n",
       "<style scoped>\n",
       "    .dataframe tbody tr th:only-of-type {\n",
       "        vertical-align: middle;\n",
       "    }\n",
       "\n",
       "    .dataframe tbody tr th {\n",
       "        vertical-align: top;\n",
       "    }\n",
       "\n",
       "    .dataframe thead th {\n",
       "        text-align: right;\n",
       "    }\n",
       "</style>\n",
       "<table border=\"1\" class=\"dataframe\">\n",
       "  <thead>\n",
       "    <tr style=\"text-align: right;\">\n",
       "      <th></th>\n",
       "      <th>ID_HABI</th>\n",
       "      <th>ID_AUT</th>\n",
       "      <th>CMUNI</th>\n",
       "      <th>ID_SEXE</th>\n",
       "      <th>EDAT</th>\n",
       "      <th>ID_IMP_ELEC</th>\n",
       "      <th>ID_PROB_VOT_GEN</th>\n",
       "      <th>ID_REC_GEN</th>\n",
       "      <th>ID_CONEIX_CASADO</th>\n",
       "      <th>VAL_CASADO</th>\n",
       "      <th>...</th>\n",
       "      <th>ID_CONEIX_IGLESIAS</th>\n",
       "      <th>VAL_IGLESIAS</th>\n",
       "      <th>ID_CONEIX_ABASCAL</th>\n",
       "      <th>VAL_ABASCAL</th>\n",
       "      <th>ID_PREFER_POLITIC</th>\n",
       "      <th>ID_IDEOLOGIA</th>\n",
       "      <th>ID_PERTINEN</th>\n",
       "      <th>ID_ESTUDIS</th>\n",
       "      <th>ID_OCUPACIO</th>\n",
       "      <th>CP</th>\n",
       "    </tr>\n",
       "  </thead>\n",
       "  <tbody>\n",
       "    <tr>\n",
       "      <th>1181</th>\n",
       "      <td>2</td>\n",
       "      <td>1</td>\n",
       "      <td>99995</td>\n",
       "      <td>1</td>\n",
       "      <td>81</td>\n",
       "      <td>1</td>\n",
       "      <td>98</td>\n",
       "      <td>1</td>\n",
       "      <td>1</td>\n",
       "      <td>3.0</td>\n",
       "      <td>...</td>\n",
       "      <td>1</td>\n",
       "      <td>3.0</td>\n",
       "      <td>1</td>\n",
       "      <td>3.0</td>\n",
       "      <td>4</td>\n",
       "      <td>5</td>\n",
       "      <td>5</td>\n",
       "      <td>2</td>\n",
       "      <td>6</td>\n",
       "      <td>29620</td>\n",
       "    </tr>\n",
       "  </tbody>\n",
       "</table>\n",
       "<p>1 rows × 24 columns</p>\n",
       "</div>"
      ],
      "text/plain": [
       "      ID_HABI  ID_AUT  CMUNI  ID_SEXE  EDAT  ID_IMP_ELEC  ID_PROB_VOT_GEN  \\\n",
       "1181        2       1  99995        1    81            1               98   \n",
       "\n",
       "      ID_REC_GEN  ID_CONEIX_CASADO  VAL_CASADO  ...    ID_CONEIX_IGLESIAS  \\\n",
       "1181           1                 1         3.0  ...                     1   \n",
       "\n",
       "      VAL_IGLESIAS  ID_CONEIX_ABASCAL  VAL_ABASCAL  ID_PREFER_POLITIC  \\\n",
       "1181           3.0                  1          3.0                  4   \n",
       "\n",
       "      ID_IDEOLOGIA  ID_PERTINEN  ID_ESTUDIS  ID_OCUPACIO     CP  \n",
       "1181             5            5           2            6  29620  \n",
       "\n",
       "[1 rows x 24 columns]"
      ]
     },
     "execution_count": 157,
     "metadata": {},
     "output_type": "execute_result"
    }
   ],
   "source": [
    "a = X_test.sample()\n",
    "a"
   ]
  },
  {
   "cell_type": "code",
   "execution_count": 158,
   "metadata": {},
   "outputs": [
    {
     "data": {
      "text/plain": [
       "array(['No sabe'], dtype=object)"
      ]
     },
     "execution_count": 158,
     "metadata": {},
     "output_type": "execute_result"
    }
   ],
   "source": [
    "clf.predict(a)"
   ]
  },
  {
   "cell_type": "code",
   "execution_count": null,
   "metadata": {},
   "outputs": [],
   "source": []
  },
  {
   "cell_type": "code",
   "execution_count": null,
   "metadata": {},
   "outputs": [],
   "source": []
  },
  {
   "cell_type": "code",
   "execution_count": null,
   "metadata": {},
   "outputs": [],
   "source": []
  },
  {
   "cell_type": "code",
   "execution_count": 160,
   "metadata": {},
   "outputs": [],
   "source": [
    "# GRADIENT BOOSTING"
   ]
  },
  {
   "cell_type": "code",
   "execution_count": 253,
   "metadata": {},
   "outputs": [],
   "source": [
    "grd = GradientBoostingClassifier(n_estimators=50, max_depth=3,\n",
    "                             random_state=0, min_samples_leaf=30, learning_rate = 0.01)"
   ]
  },
  {
   "cell_type": "code",
   "execution_count": 254,
   "metadata": {},
   "outputs": [
    {
     "name": "stderr",
     "output_type": "stream",
     "text": [
      "C:\\Users\\Lau\\AppData\\Local\\Continuum\\anaconda3\\lib\\site-packages\\sklearn\\utils\\validation.py:578: DataConversionWarning: A column-vector y was passed when a 1d array was expected. Please change the shape of y to (n_samples, ), for example using ravel().\n",
      "  y = column_or_1d(y, warn=True)\n"
     ]
    },
    {
     "data": {
      "text/plain": [
       "GradientBoostingClassifier(criterion='friedman_mse', init=None,\n",
       "              learning_rate=0.01, loss='deviance', max_depth=3,\n",
       "              max_features=None, max_leaf_nodes=None,\n",
       "              min_impurity_decrease=0.0, min_impurity_split=None,\n",
       "              min_samples_leaf=30, min_samples_split=2,\n",
       "              min_weight_fraction_leaf=0.0, n_estimators=50,\n",
       "              presort='auto', random_state=0, subsample=1.0, verbose=0,\n",
       "              warm_start=False)"
      ]
     },
     "execution_count": 254,
     "metadata": {},
     "output_type": "execute_result"
    }
   ],
   "source": [
    "grd.fit(X_train, y_train)"
   ]
  },
  {
   "cell_type": "code",
   "execution_count": 255,
   "metadata": {},
   "outputs": [
    {
     "data": {
      "text/plain": [
       "0.555"
      ]
     },
     "execution_count": 255,
     "metadata": {},
     "output_type": "execute_result"
    }
   ],
   "source": [
    "grd.score(X_val, y_val)"
   ]
  },
  {
   "cell_type": "code",
   "execution_count": 256,
   "metadata": {},
   "outputs": [
    {
     "data": {
      "text/plain": [
       "0.638125"
      ]
     },
     "execution_count": 256,
     "metadata": {},
     "output_type": "execute_result"
    }
   ],
   "source": [
    "grd.score(X_train, y_train)"
   ]
  },
  {
   "cell_type": "code",
   "execution_count": 257,
   "metadata": {},
   "outputs": [
    {
     "data": {
      "text/plain": [
       "0.65"
      ]
     },
     "execution_count": 257,
     "metadata": {},
     "output_type": "execute_result"
    }
   ],
   "source": [
    "grd.score(X_test, y_test)"
   ]
  },
  {
   "cell_type": "code",
   "execution_count": null,
   "metadata": {},
   "outputs": [],
   "source": [
    "# Acc 0.65"
   ]
  },
  {
   "cell_type": "code",
   "execution_count": null,
   "metadata": {},
   "outputs": [],
   "source": []
  },
  {
   "cell_type": "code",
   "execution_count": null,
   "metadata": {},
   "outputs": [],
   "source": []
  },
  {
   "cell_type": "code",
   "execution_count": null,
   "metadata": {},
   "outputs": [],
   "source": []
  },
  {
   "cell_type": "code",
   "execution_count": null,
   "metadata": {},
   "outputs": [],
   "source": []
  },
  {
   "cell_type": "code",
   "execution_count": null,
   "metadata": {},
   "outputs": [],
   "source": []
  },
  {
   "cell_type": "code",
   "execution_count": null,
   "metadata": {},
   "outputs": [],
   "source": []
  }
 ],
 "metadata": {
  "kernelspec": {
   "display_name": "Python 3",
   "language": "python",
   "name": "python3"
  },
  "language_info": {
   "codemirror_mode": {
    "name": "ipython",
    "version": 3
   },
   "file_extension": ".py",
   "mimetype": "text/x-python",
   "name": "python",
   "nbconvert_exporter": "python",
   "pygments_lexer": "ipython3",
   "version": "3.6.5"
  }
 },
 "nbformat": 4,
 "nbformat_minor": 2
}
