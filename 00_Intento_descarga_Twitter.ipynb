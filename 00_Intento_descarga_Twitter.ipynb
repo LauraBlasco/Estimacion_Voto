{
 "cells": [
  {
   "cell_type": "code",
   "execution_count": 6,
   "metadata": {
    "scrolled": false
   },
   "outputs": [
    {
     "name": "stdout",
     "output_type": "stream",
     "text": [
      "Requirement already satisfied: credentials in c:\\users\\lau\\appdata\\local\\continuum\\anaconda3\\lib\\site-packages (1.1)\n"
     ]
    },
    {
     "name": "stderr",
     "output_type": "stream",
     "text": [
      "distributed 1.21.8 requires msgpack, which is not installed.\n",
      "You are using pip version 10.0.1, however version 19.1.1 is available.\n",
      "You should consider upgrading via the 'python -m pip install --upgrade pip' command.\n"
     ]
    }
   ],
   "source": [
    "! pip install credentials"
   ]
  },
  {
   "cell_type": "code",
   "execution_count": 7,
   "metadata": {},
   "outputs": [
    {
     "name": "stderr",
     "output_type": "stream",
     "text": [
      "Cloning into 'tweepy'...\n",
      "remote: Not Found\n",
      "fatal: repository 'https://github.com/tweepy.git/' not found\n",
      "El sistema no puede encontrar la ruta especificada.\n",
      "python: can't open file 'setup.py': [Errno 2] No such file or directory\n"
     ]
    }
   ],
   "source": [
    "! git clone https://github.com/tweepy.git\n",
    "! cd tweepy\n",
    "! python setup.py install"
   ]
  },
  {
   "cell_type": "code",
   "execution_count": 8,
   "metadata": {},
   "outputs": [],
   "source": [
    "import pandas as pd\n",
    "import numpy as np"
   ]
  },
  {
   "cell_type": "code",
   "execution_count": 9,
   "metadata": {},
   "outputs": [],
   "source": [
    "try:\n",
    "    import json\n",
    "except ImportError:\n",
    "    import simplejson as json"
   ]
  },
  {
   "cell_type": "code",
   "execution_count": 10,
   "metadata": {},
   "outputs": [
    {
     "ename": "ModuleNotFoundError",
     "evalue": "No module named 'tweepy'",
     "output_type": "error",
     "traceback": [
      "\u001b[1;31m---------------------------------------------------------------------------\u001b[0m",
      "\u001b[1;31mModuleNotFoundError\u001b[0m                       Traceback (most recent call last)",
      "\u001b[1;32m<ipython-input-10-f5e4f2180e08>\u001b[0m in \u001b[0;36m<module>\u001b[1;34m()\u001b[0m\n\u001b[1;32m----> 1\u001b[1;33m \u001b[1;32mimport\u001b[0m \u001b[0mtweepy\u001b[0m\u001b[1;33m\u001b[0m\u001b[0m\n\u001b[0m",
      "\u001b[1;31mModuleNotFoundError\u001b[0m: No module named 'tweepy'"
     ]
    }
   ],
   "source": [
    "import tweepy"
   ]
  },
  {
   "cell_type": "code",
   "execution_count": 11,
   "metadata": {},
   "outputs": [],
   "source": [
    "ACCESS_TOKEN = '1111392155036237824-y3ldv4pdahfeshCpDYa5uuosOETkM4'\n",
    "ACCESS_SECRET = 'gMJMOrXVJ7rKlIj44937cCqVIqZDVeKCReUiMtARZjrX0'\n",
    "CONSUMER_KEY = '6B4wdyDD7iBL246cSx0xlDGEf'\n",
    "CONSUMER_SECRET = 'FGYYsr1r2syvhoMWQ6qbmI1BmpNrDMtum0SQR1E6OiTQKPQ3Ru'"
   ]
  },
  {
   "cell_type": "code",
   "execution_count": 12,
   "metadata": {},
   "outputs": [],
   "source": [
    "from credentials import *\n",
    "\n",
    "def twitter_setup():\n",
    "    auth = tweepy.OAuthHandler(CONSUMER_KEY, CONSUMER_SECRET)\n",
    "    auth.set_access_token(ACCESS_TOKEN, ACCESS_SECRET)\n",
    "    \n",
    "    api = tweepy.API(auth)\n",
    "    return(api)\n"
   ]
  },
  {
   "cell_type": "code",
   "execution_count": 34,
   "metadata": {},
   "outputs": [],
   "source": [
    "extractor = twitter_setup()"
   ]
  },
  {
   "cell_type": "code",
   "execution_count": 36,
   "metadata": {},
   "outputs": [
    {
     "name": "stdout",
     "output_type": "stream",
     "text": [
      "Número de tweets extraídos de PSOE: 200.\n",
      "\n",
      "5 tweets más recientes:\n",
      "\n",
      "RT @CristinaNarbona: #28APSOE votemos para defender los valores en los q creemos,por nuestros mayores, nuestras mujeres,nuestros hijos e hi…\n",
      "\n",
      "#28APSOE https://t.co/XiywoP9ZRL\n",
      "\n",
      "RT @socialistes_cat: 🗣 @meritxell_batet: Avui ens juguem el futur, és un dia decisiu. Estem cridats a les urnes per decidir quin rumb prene…\n",
      "\n",
      "RT @ivgoes: /❤️ ¡Llegó el momento!\n",
      "Por tus derechos, por la Igualdad, por la justicia social.\n",
      "Por la España que quieres.\n",
      "\n",
      "#EstamosMuyCerca…\n",
      "\n",
      "RT @PSOESalamanca: ✊🏻🌹 Nuestros candidatos al Congreso y al Senado ya han ejercido su derecho al voto en #Salamanca, con ilusión y con un l…\n",
      "\n"
     ]
    }
   ],
   "source": [
    "tweets_PSOE = extractor.user_timeline(screen_name=\"PSOE\", count=200)\n",
    "print(\"Número de tweets extraídos de PSOE: {}.\\n\".format(len(tweets_PSOE)))\n",
    "\n",
    "print(\"5 tweets más recientes:\\n\")\n",
    "for tweet_PSOE in tweets_PSOE[:5]:\n",
    "    print(tweet_PSOE.text)\n",
    "    print()"
   ]
  },
  {
   "cell_type": "code",
   "execution_count": 23,
   "metadata": {},
   "outputs": [],
   "source": [
    "data_PSOE = pd.DataFrame(data=[tweet_PSOE.text for tweet_PSOE in tweets_PSOE], columns=['Tweets_PSOE'])"
   ]
  },
  {
   "cell_type": "code",
   "execution_count": 24,
   "metadata": {},
   "outputs": [
    {
     "data": {
      "text/html": [
       "<div>\n",
       "<style scoped>\n",
       "    .dataframe tbody tr th:only-of-type {\n",
       "        vertical-align: middle;\n",
       "    }\n",
       "\n",
       "    .dataframe tbody tr th {\n",
       "        vertical-align: top;\n",
       "    }\n",
       "\n",
       "    .dataframe thead th {\n",
       "        text-align: right;\n",
       "    }\n",
       "</style>\n",
       "<table border=\"1\" class=\"dataframe\">\n",
       "  <thead>\n",
       "    <tr style=\"text-align: right;\">\n",
       "      <th></th>\n",
       "      <th>Tweets_PSOE</th>\n",
       "    </tr>\n",
       "  </thead>\n",
       "  <tbody>\n",
       "    <tr>\n",
       "      <th>0</th>\n",
       "      <td>RT @CristinaNarbona: #28APSOE votemos para def...</td>\n",
       "    </tr>\n",
       "    <tr>\n",
       "      <th>1</th>\n",
       "      <td>#28APSOE https://t.co/XiywoP9ZRL</td>\n",
       "    </tr>\n",
       "    <tr>\n",
       "      <th>2</th>\n",
       "      <td>RT @socialistes_cat: 🗣 @meritxell_batet: Avui ...</td>\n",
       "    </tr>\n",
       "    <tr>\n",
       "      <th>3</th>\n",
       "      <td>RT @ivgoes: /❤️ ¡Llegó el momento!\\nPor tus de...</td>\n",
       "    </tr>\n",
       "    <tr>\n",
       "      <th>4</th>\n",
       "      <td>RT @PSOESalamanca: ✊🏻🌹 Nuestros candidatos al ...</td>\n",
       "    </tr>\n",
       "  </tbody>\n",
       "</table>\n",
       "</div>"
      ],
      "text/plain": [
       "                                         Tweets_PSOE\n",
       "0  RT @CristinaNarbona: #28APSOE votemos para def...\n",
       "1                   #28APSOE https://t.co/XiywoP9ZRL\n",
       "2  RT @socialistes_cat: 🗣 @meritxell_batet: Avui ...\n",
       "3  RT @ivgoes: /❤️ ¡Llegó el momento!\\nPor tus de...\n",
       "4  RT @PSOESalamanca: ✊🏻🌹 Nuestros candidatos al ..."
      ]
     },
     "execution_count": 24,
     "metadata": {},
     "output_type": "execute_result"
    }
   ],
   "source": [
    "data_PSOE.head()"
   ]
  },
  {
   "cell_type": "code",
   "execution_count": 25,
   "metadata": {},
   "outputs": [],
   "source": [
    "data_PSOE['longitud'] = np.array([len(tweet_PSOE.text) for tweet_PSOE in tweets_PSOE])\n",
    "data_PSOE['ID'] = np.array([tweet_PSOE.id for tweet_PSOE in tweets_PSOE])\n",
    "data_PSOE['Fecha'] = np.array([tweet_PSOE.created_at for tweet_PSOE in tweets_PSOE])\n",
    "data_PSOE['Fuente'] = np.array([tweet_PSOE.source for tweet_PSOE in tweets_PSOE])\n",
    "data_PSOE['Likes'] = np.array([tweet_PSOE.favorite_count for tweet_PSOE in tweets_PSOE])\n",
    "data_PSOE['RTs'] = np.array([tweet_PSOE.retweet_count for tweet_PSOE in tweets_PSOE])"
   ]
  },
  {
   "cell_type": "code",
   "execution_count": 26,
   "metadata": {
    "scrolled": true
   },
   "outputs": [
    {
     "data": {
      "text/html": [
       "<div>\n",
       "<style scoped>\n",
       "    .dataframe tbody tr th:only-of-type {\n",
       "        vertical-align: middle;\n",
       "    }\n",
       "\n",
       "    .dataframe tbody tr th {\n",
       "        vertical-align: top;\n",
       "    }\n",
       "\n",
       "    .dataframe thead th {\n",
       "        text-align: right;\n",
       "    }\n",
       "</style>\n",
       "<table border=\"1\" class=\"dataframe\">\n",
       "  <thead>\n",
       "    <tr style=\"text-align: right;\">\n",
       "      <th></th>\n",
       "      <th>Tweets_PSOE</th>\n",
       "      <th>longitud</th>\n",
       "      <th>ID</th>\n",
       "      <th>Fecha</th>\n",
       "      <th>Fuente</th>\n",
       "      <th>Likes</th>\n",
       "      <th>RTs</th>\n",
       "    </tr>\n",
       "  </thead>\n",
       "  <tbody>\n",
       "    <tr>\n",
       "      <th>0</th>\n",
       "      <td>RT @CristinaNarbona: #28APSOE votemos para def...</td>\n",
       "      <td>140</td>\n",
       "      <td>1122491716567805952</td>\n",
       "      <td>2019-04-28 13:24:14</td>\n",
       "      <td>Twitter for iPhone</td>\n",
       "      <td>0</td>\n",
       "      <td>92</td>\n",
       "    </tr>\n",
       "    <tr>\n",
       "      <th>1</th>\n",
       "      <td>#28APSOE https://t.co/XiywoP9ZRL</td>\n",
       "      <td>32</td>\n",
       "      <td>1122491381304446977</td>\n",
       "      <td>2019-04-28 13:22:54</td>\n",
       "      <td>Twitter for iPhone</td>\n",
       "      <td>74</td>\n",
       "      <td>26</td>\n",
       "    </tr>\n",
       "    <tr>\n",
       "      <th>2</th>\n",
       "      <td>RT @socialistes_cat: 🗣 @meritxell_batet: Avui ...</td>\n",
       "      <td>140</td>\n",
       "      <td>1122483405822861314</td>\n",
       "      <td>2019-04-28 12:51:13</td>\n",
       "      <td>Twitter for iPhone</td>\n",
       "      <td>0</td>\n",
       "      <td>47</td>\n",
       "    </tr>\n",
       "    <tr>\n",
       "      <th>3</th>\n",
       "      <td>RT @ivgoes: /❤️ ¡Llegó el momento!\\nPor tus de...</td>\n",
       "      <td>139</td>\n",
       "      <td>1122483227690786816</td>\n",
       "      <td>2019-04-28 12:50:30</td>\n",
       "      <td>Twitter for iPhone</td>\n",
       "      <td>0</td>\n",
       "      <td>36</td>\n",
       "    </tr>\n",
       "    <tr>\n",
       "      <th>4</th>\n",
       "      <td>RT @PSOESalamanca: ✊🏻🌹 Nuestros candidatos al ...</td>\n",
       "      <td>140</td>\n",
       "      <td>1122483116143255553</td>\n",
       "      <td>2019-04-28 12:50:04</td>\n",
       "      <td>Twitter for iPhone</td>\n",
       "      <td>0</td>\n",
       "      <td>22</td>\n",
       "    </tr>\n",
       "    <tr>\n",
       "      <th>5</th>\n",
       "      <td>RT @jmrdezuribes: He votado. He ejercido nuest...</td>\n",
       "      <td>140</td>\n",
       "      <td>1122483070534332416</td>\n",
       "      <td>2019-04-28 12:49:53</td>\n",
       "      <td>Twitter for iPhone</td>\n",
       "      <td>0</td>\n",
       "      <td>40</td>\n",
       "    </tr>\n",
       "    <tr>\n",
       "      <th>6</th>\n",
       "      <td>RT @alora86: Hoy mi abuela Feliciana 🎂cumple 9...</td>\n",
       "      <td>140</td>\n",
       "      <td>1122483037407719424</td>\n",
       "      <td>2019-04-28 12:49:45</td>\n",
       "      <td>Twitter for iPhone</td>\n",
       "      <td>0</td>\n",
       "      <td>47</td>\n",
       "    </tr>\n",
       "    <tr>\n",
       "      <th>7</th>\n",
       "      <td>RT @PsoeBadajozCEP: 📸Nuestros candidatxs del @...</td>\n",
       "      <td>138</td>\n",
       "      <td>1122470330033950721</td>\n",
       "      <td>2019-04-28 11:59:15</td>\n",
       "      <td>Twitter for iPhone</td>\n",
       "      <td>0</td>\n",
       "      <td>30</td>\n",
       "    </tr>\n",
       "    <tr>\n",
       "      <th>8</th>\n",
       "      <td>RT @ruiz_espejo: Juan tiene 97 años, vive en M...</td>\n",
       "      <td>140</td>\n",
       "      <td>1122470274409037824</td>\n",
       "      <td>2019-04-28 11:59:02</td>\n",
       "      <td>Twitter for iPhone</td>\n",
       "      <td>0</td>\n",
       "      <td>90</td>\n",
       "    </tr>\n",
       "    <tr>\n",
       "      <th>9</th>\n",
       "      <td>#28APSOE https://t.co/Toj1oUYzea</td>\n",
       "      <td>32</td>\n",
       "      <td>1122467254665449472</td>\n",
       "      <td>2019-04-28 11:47:02</td>\n",
       "      <td>Twitter for iPhone</td>\n",
       "      <td>46</td>\n",
       "      <td>26</td>\n",
       "    </tr>\n",
       "  </tbody>\n",
       "</table>\n",
       "</div>"
      ],
      "text/plain": [
       "                                         Tweets_PSOE  longitud  \\\n",
       "0  RT @CristinaNarbona: #28APSOE votemos para def...       140   \n",
       "1                   #28APSOE https://t.co/XiywoP9ZRL        32   \n",
       "2  RT @socialistes_cat: 🗣 @meritxell_batet: Avui ...       140   \n",
       "3  RT @ivgoes: /❤️ ¡Llegó el momento!\\nPor tus de...       139   \n",
       "4  RT @PSOESalamanca: ✊🏻🌹 Nuestros candidatos al ...       140   \n",
       "5  RT @jmrdezuribes: He votado. He ejercido nuest...       140   \n",
       "6  RT @alora86: Hoy mi abuela Feliciana 🎂cumple 9...       140   \n",
       "7  RT @PsoeBadajozCEP: 📸Nuestros candidatxs del @...       138   \n",
       "8  RT @ruiz_espejo: Juan tiene 97 años, vive en M...       140   \n",
       "9                   #28APSOE https://t.co/Toj1oUYzea        32   \n",
       "\n",
       "                    ID               Fecha              Fuente  Likes  RTs  \n",
       "0  1122491716567805952 2019-04-28 13:24:14  Twitter for iPhone      0   92  \n",
       "1  1122491381304446977 2019-04-28 13:22:54  Twitter for iPhone     74   26  \n",
       "2  1122483405822861314 2019-04-28 12:51:13  Twitter for iPhone      0   47  \n",
       "3  1122483227690786816 2019-04-28 12:50:30  Twitter for iPhone      0   36  \n",
       "4  1122483116143255553 2019-04-28 12:50:04  Twitter for iPhone      0   22  \n",
       "5  1122483070534332416 2019-04-28 12:49:53  Twitter for iPhone      0   40  \n",
       "6  1122483037407719424 2019-04-28 12:49:45  Twitter for iPhone      0   47  \n",
       "7  1122470330033950721 2019-04-28 11:59:15  Twitter for iPhone      0   30  \n",
       "8  1122470274409037824 2019-04-28 11:59:02  Twitter for iPhone      0   90  \n",
       "9  1122467254665449472 2019-04-28 11:47:02  Twitter for iPhone     46   26  "
      ]
     },
     "execution_count": 26,
     "metadata": {},
     "output_type": "execute_result"
    }
   ],
   "source": [
    "data_PSOE.head(10)"
   ]
  },
  {
   "cell_type": "code",
   "execution_count": 27,
   "metadata": {},
   "outputs": [],
   "source": [
    "data_PSOE.to_csv('Datos_Twitter_PSOE.csv')"
   ]
  },
  {
   "cell_type": "code",
   "execution_count": null,
   "metadata": {},
   "outputs": [],
   "source": []
  },
  {
   "cell_type": "code",
   "execution_count": null,
   "metadata": {},
   "outputs": [],
   "source": [
    "tweets_PP = extractor.user_timeline(screen_name=\"PabloCasado\", count=200)\n",
    "print(\"Número de tweets extraídos de PP: {}.\\n\".format(len(tweets_PP)))\n",
    "\n",
    "print(\"5 tweets más recientes:\\n\")\n",
    "for tweet_PP in tweets_PP[:5]:\n",
    "    print(tweet_PP.text)\n",
    "    print()"
   ]
  },
  {
   "cell_type": "code",
   "execution_count": null,
   "metadata": {},
   "outputs": [],
   "source": [
    "data_PP = pd.DataFrame(data=[tweet_PP.text for tweet_PP in tweets_PP], columns=['Tweets_PP'])"
   ]
  },
  {
   "cell_type": "code",
   "execution_count": null,
   "metadata": {},
   "outputs": [],
   "source": [
    "data_PP.head()"
   ]
  },
  {
   "cell_type": "code",
   "execution_count": null,
   "metadata": {},
   "outputs": [],
   "source": [
    "data_PP['longitud'] = np.array([len(tweet_PP.text) for tweet_PP in tweets_PP])\n",
    "data_PP['ID'] = np.array([tweet_PP.id for tweet_PP in tweets_PP])\n",
    "data_PP['Fecha'] = np.array([tweet_PP.created_at for tweet_PP in tweets_PP])\n",
    "data_PP['Fuente'] = np.array([tweet_PP.source for tweet_PP in tweets_PP])\n",
    "data_PP['Likes'] = np.array([tweet_PP.favorite_count for tweet_PP in tweets_PP])\n",
    "data_PP['RTs'] = np.array([tweet_PP.retweet_count for tweet_PP in tweets_PP])"
   ]
  },
  {
   "cell_type": "code",
   "execution_count": null,
   "metadata": {},
   "outputs": [],
   "source": [
    "data_PP.head(10)"
   ]
  },
  {
   "cell_type": "code",
   "execution_count": null,
   "metadata": {},
   "outputs": [],
   "source": [
    "data_PP.to_csv('Datos_Twitter_PP.csv')"
   ]
  },
  {
   "cell_type": "code",
   "execution_count": null,
   "metadata": {},
   "outputs": [],
   "source": []
  },
  {
   "cell_type": "code",
   "execution_count": null,
   "metadata": {},
   "outputs": [],
   "source": [
    "tweets_CS = extractor.user_timeline(screen_name=\"AlbertRivera\", count=200)\n",
    "print(\"Número de tweets extraídos de CS: {}.\\n\".format(len(tweets_CS)))\n",
    "\n",
    "print(\"5 tweets más recientes:\\n\")\n",
    "for tweet_CS in tweets_CS[:5]:\n",
    "    print(tweet_CS.text)\n",
    "    print()"
   ]
  },
  {
   "cell_type": "code",
   "execution_count": null,
   "metadata": {},
   "outputs": [],
   "source": [
    "data_CS = pd.DataFrame(data=[tweet_CS.text for tweet_CS in tweets_CS], columns=['Tweets_CS'])"
   ]
  },
  {
   "cell_type": "code",
   "execution_count": null,
   "metadata": {},
   "outputs": [],
   "source": [
    "data_CS.head()"
   ]
  },
  {
   "cell_type": "code",
   "execution_count": null,
   "metadata": {},
   "outputs": [],
   "source": [
    "data_CS['longitud'] = np.array([len(tweet_CS.text) for tweet_CS in tweets_CS])\n",
    "data_CS['ID'] = np.array([tweet_CS.id for tweet_CS in tweets_CS])\n",
    "data_CS['Fecha'] = np.array([tweet_CS.created_at for tweet_CS in tweets_CS])\n",
    "data_CS['Fuente'] = np.array([tweet_CS.source for tweet_CS in tweets_CS])\n",
    "data_CS['Likes'] = np.array([tweet_CS.favorite_count for tweet_CS in tweets_CS])\n",
    "data_CS['RTs'] = np.array([tweet_CS.retweet_count for tweet_CS in tweets_CS])"
   ]
  },
  {
   "cell_type": "code",
   "execution_count": null,
   "metadata": {},
   "outputs": [],
   "source": [
    "data_CS.head(10)"
   ]
  },
  {
   "cell_type": "code",
   "execution_count": null,
   "metadata": {},
   "outputs": [],
   "source": [
    "data_CS.to_csv('Datos_Twitter_CS.csv')"
   ]
  },
  {
   "cell_type": "code",
   "execution_count": null,
   "metadata": {},
   "outputs": [],
   "source": []
  },
  {
   "cell_type": "code",
   "execution_count": null,
   "metadata": {},
   "outputs": [],
   "source": [
    "tweets_PODEMOS = extractor.user_timeline(screen_name=\"Podemos\", count=200)\n",
    "print(\"Número de tweets extraídos de PODEMOS: {}.\\n\".format(len(tweets_PODEMOS)))\n",
    "\n",
    "print(\"5 tweets más recientes:\\n\")\n",
    "for tweet_PODEMOS in tweets_PODEMOS[:5]:\n",
    "    print(tweet_PODEMOS.text)\n",
    "    print()"
   ]
  },
  {
   "cell_type": "code",
   "execution_count": null,
   "metadata": {},
   "outputs": [],
   "source": [
    "data_PODEMOS = pd.DataFrame(data=[tweet_PODEMOS.text for tweet_PODEMOS in tweets_PODEMOS], columns=['Tweets_PODEMOS'])"
   ]
  },
  {
   "cell_type": "code",
   "execution_count": null,
   "metadata": {},
   "outputs": [],
   "source": [
    "data_PODEMOS.head()"
   ]
  },
  {
   "cell_type": "code",
   "execution_count": null,
   "metadata": {},
   "outputs": [],
   "source": [
    "data_PODEMOS['longitud'] = np.array([len(tweet_PODEMOS.text) for tweet_PODEMOS in tweets_PODEMOS])\n",
    "data_PODEMOS['ID'] = np.array([tweet_PODEMOS.id for tweet_PODEMOS in tweets_PODEMOS])\n",
    "data_PODEMOS['Fecha'] = np.array([tweet_PODEMOS.created_at for tweet_PODEMOS in tweets_PODEMOS])\n",
    "data_PODEMOS['Fuente'] = np.array([tweet_PODEMOS.source for tweet_PODEMOS in tweets_PODEMOS])\n",
    "data_PODEMOS['Likes'] = np.array([tweet_PODEMOS.favorite_count for tweet_PODEMOS in tweets_PODEMOS])\n",
    "data_PODEMOS['RTs'] = np.array([tweet_PODEMOS.retweet_count for tweet_PODEMOS in tweets_PODEMOS])"
   ]
  },
  {
   "cell_type": "code",
   "execution_count": null,
   "metadata": {},
   "outputs": [],
   "source": [
    "data_PODEMOS.head(10)"
   ]
  },
  {
   "cell_type": "code",
   "execution_count": null,
   "metadata": {},
   "outputs": [],
   "source": [
    "data_PODEMOS.to_csv('Datos_Twitter_PODEMOS.csv')"
   ]
  },
  {
   "cell_type": "code",
   "execution_count": null,
   "metadata": {},
   "outputs": [],
   "source": []
  },
  {
   "cell_type": "code",
   "execution_count": null,
   "metadata": {},
   "outputs": [],
   "source": [
    "tweets_VOX = extractor.user_timeline(screen_name=\"SantiagoAbascal\", count=200)\n",
    "print(\"Número de tweets extraídos de VOX: {}.\\n\".format(len(tweets_VOX)))\n",
    "\n",
    "print(\"5 tweets más recientes:\\n\")\n",
    "for tweet_VOX in tweets_VOX[:5]:\n",
    "    print(tweet_VOX.text)\n",
    "    print()"
   ]
  },
  {
   "cell_type": "code",
   "execution_count": null,
   "metadata": {},
   "outputs": [],
   "source": [
    "data_VOX = pd.DataFrame(data=[tweet_VOX.text for tweet_VOX in tweets_VOX], columns=['Tweets_VOX'])"
   ]
  },
  {
   "cell_type": "code",
   "execution_count": null,
   "metadata": {},
   "outputs": [],
   "source": [
    "data_VOX.head()"
   ]
  },
  {
   "cell_type": "code",
   "execution_count": null,
   "metadata": {},
   "outputs": [],
   "source": [
    "data_VOX['longitud'] = np.array([len(tweet_VOX.text) for tweet_VOX in tweets_VOX])\n",
    "data_VOX['ID'] = np.array([tweet_VOX.id for tweet_VOX in tweets_VOX])\n",
    "data_VOX['Fecha'] = np.array([tweet_VOX.created_at for tweet_VOX in tweets_VOX])\n",
    "data_VOX['Fuente'] = np.array([tweet_VOX.source for tweet_VOX in tweets_VOX])\n",
    "data_VOX['Likes'] = np.array([tweet_VOX.favorite_count for tweet_VOX in tweets_VOX])\n",
    "data_VOX['RTs'] = np.array([tweet_VOX.retweet_count for tweet_VOX in tweets_VOX])"
   ]
  },
  {
   "cell_type": "code",
   "execution_count": null,
   "metadata": {},
   "outputs": [],
   "source": [
    "data_VOX.head(10)"
   ]
  },
  {
   "cell_type": "code",
   "execution_count": null,
   "metadata": {},
   "outputs": [],
   "source": [
    "data_VOX.to_csv('Datos_Twitter_VOX.csv')"
   ]
  }
 ],
 "metadata": {
  "kernelspec": {
   "display_name": "Python 3",
   "language": "python",
   "name": "python3"
  },
  "language_info": {
   "codemirror_mode": {
    "name": "ipython",
    "version": 3
   },
   "file_extension": ".py",
   "mimetype": "text/x-python",
   "name": "python",
   "nbconvert_exporter": "python",
   "pygments_lexer": "ipython3",
   "version": "3.6.5"
  }
 },
 "nbformat": 4,
 "nbformat_minor": 2
}
