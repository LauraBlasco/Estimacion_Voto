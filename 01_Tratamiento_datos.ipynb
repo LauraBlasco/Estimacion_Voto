{
 "cells": [
  {
   "cell_type": "code",
   "execution_count": 1,
   "metadata": {},
   "outputs": [],
   "source": [
    "import pandas as pd\n",
    "import numpy as np\n",
    "from matplotlib import pyplot as plt\n",
    "%matplotlib notebook"
   ]
  },
  {
   "cell_type": "code",
   "execution_count": 2,
   "metadata": {},
   "outputs": [
    {
     "data": {
      "text/html": [
       "<div>\n",
       "<style scoped>\n",
       "    .dataframe tbody tr th:only-of-type {\n",
       "        vertical-align: middle;\n",
       "    }\n",
       "\n",
       "    .dataframe tbody tr th {\n",
       "        vertical-align: top;\n",
       "    }\n",
       "\n",
       "    .dataframe thead th {\n",
       "        text-align: right;\n",
       "    }\n",
       "</style>\n",
       "<table border=\"1\" class=\"dataframe\">\n",
       "  <thead>\n",
       "    <tr style=\"text-align: right;\">\n",
       "      <th></th>\n",
       "      <th>REGISTRO</th>\n",
       "      <th>ENTREVISTADOR</th>\n",
       "      <th>FECHAINI</th>\n",
       "      <th>HORAINI</th>\n",
       "      <th>FECHAFIN</th>\n",
       "      <th>HORAFIN</th>\n",
       "      <th>DURACION</th>\n",
       "      <th>TELEFONO</th>\n",
       "      <th>ID_CONTACTO</th>\n",
       "      <th>ESTADO</th>\n",
       "      <th>...</th>\n",
       "      <th>PREFER_POLITIC</th>\n",
       "      <th>ID_IDEOLOGIA</th>\n",
       "      <th>IDEOLOGIA</th>\n",
       "      <th>ID_PERTINEN</th>\n",
       "      <th>PERTINEN</th>\n",
       "      <th>ID_ESTUDIS</th>\n",
       "      <th>ESTUDIS</th>\n",
       "      <th>ID_OCUPACIO</th>\n",
       "      <th>OCUPACIO</th>\n",
       "      <th>CP</th>\n",
       "    </tr>\n",
       "  </thead>\n",
       "  <tbody>\n",
       "    <tr>\n",
       "      <th>0</th>\n",
       "      <td>4</td>\n",
       "      <td>GUILLEM MILIAN, LAUREANO</td>\n",
       "      <td>2/13/2019</td>\n",
       "      <td>15:19:21</td>\n",
       "      <td>2/13/2019</td>\n",
       "      <td>16:30:57</td>\n",
       "      <td>389</td>\n",
       "      <td>698204715</td>\n",
       "      <td>4371986</td>\n",
       "      <td>Finalizada</td>\n",
       "      <td>...</td>\n",
       "      <td>Pablo Casado</td>\n",
       "      <td>3</td>\n",
       "      <td>Centro</td>\n",
       "      <td>5</td>\n",
       "      <td>Únicamente de su comunidad</td>\n",
       "      <td>2</td>\n",
       "      <td>Obligatorios</td>\n",
       "      <td>1</td>\n",
       "      <td>Trabajador</td>\n",
       "      <td>28053</td>\n",
       "    </tr>\n",
       "    <tr>\n",
       "      <th>1</th>\n",
       "      <td>5</td>\n",
       "      <td>YUSTE ALARCON, MONTSERRAT</td>\n",
       "      <td>2/13/2019</td>\n",
       "      <td>15:19:42</td>\n",
       "      <td>2/13/2019</td>\n",
       "      <td>17:35:54</td>\n",
       "      <td>275</td>\n",
       "      <td>639346200</td>\n",
       "      <td>4372758</td>\n",
       "      <td>Finalizada</td>\n",
       "      <td>...</td>\n",
       "      <td>Albert Rivera</td>\n",
       "      <td>3</td>\n",
       "      <td>Centro</td>\n",
       "      <td>3</td>\n",
       "      <td>Tan español como de su comunidad</td>\n",
       "      <td>5</td>\n",
       "      <td>Universitarios</td>\n",
       "      <td>1</td>\n",
       "      <td>Trabajador</td>\n",
       "      <td>28017</td>\n",
       "    </tr>\n",
       "    <tr>\n",
       "      <th>2</th>\n",
       "      <td>6</td>\n",
       "      <td>OVIEDO HEREDIA, THAIS</td>\n",
       "      <td>2/13/2019</td>\n",
       "      <td>15:20:04</td>\n",
       "      <td>2/13/2019</td>\n",
       "      <td>17:29:01</td>\n",
       "      <td>377</td>\n",
       "      <td>609722733</td>\n",
       "      <td>4367939</td>\n",
       "      <td>Finalizada</td>\n",
       "      <td>...</td>\n",
       "      <td>Ninguno de estos</td>\n",
       "      <td>98</td>\n",
       "      <td>No sabe</td>\n",
       "      <td>3</td>\n",
       "      <td>Tan español como de su comunidad</td>\n",
       "      <td>5</td>\n",
       "      <td>Universitarios</td>\n",
       "      <td>1</td>\n",
       "      <td>Trabajador</td>\n",
       "      <td>28043</td>\n",
       "    </tr>\n",
       "    <tr>\n",
       "      <th>3</th>\n",
       "      <td>27</td>\n",
       "      <td>RIOS GONZALEZ, ANGEL</td>\n",
       "      <td>2/13/2019</td>\n",
       "      <td>15:25:19</td>\n",
       "      <td>2/13/2019</td>\n",
       "      <td>15:29:26</td>\n",
       "      <td>243</td>\n",
       "      <td>604021525</td>\n",
       "      <td>4370221</td>\n",
       "      <td>Finalizada</td>\n",
       "      <td>...</td>\n",
       "      <td>Pablo Casado</td>\n",
       "      <td>4</td>\n",
       "      <td>Centro derecha</td>\n",
       "      <td>3</td>\n",
       "      <td>Tan español como de su comunidad</td>\n",
       "      <td>4</td>\n",
       "      <td>Postobligatorios profesionales</td>\n",
       "      <td>1</td>\n",
       "      <td>Trabajador</td>\n",
       "      <td>36001</td>\n",
       "    </tr>\n",
       "    <tr>\n",
       "      <th>4</th>\n",
       "      <td>28</td>\n",
       "      <td>YUSTE ALARCON, MONTSERRAT</td>\n",
       "      <td>2/13/2019</td>\n",
       "      <td>15:25:34</td>\n",
       "      <td>2/13/2019</td>\n",
       "      <td>15:32:08</td>\n",
       "      <td>392</td>\n",
       "      <td>640806079</td>\n",
       "      <td>4389758</td>\n",
       "      <td>Finalizada</td>\n",
       "      <td>...</td>\n",
       "      <td>Pedro Sánchez</td>\n",
       "      <td>3</td>\n",
       "      <td>Centro</td>\n",
       "      <td>5</td>\n",
       "      <td>Únicamente de su comunidad</td>\n",
       "      <td>2</td>\n",
       "      <td>Obligatorios</td>\n",
       "      <td>1</td>\n",
       "      <td>Trabajador</td>\n",
       "      <td>28021</td>\n",
       "    </tr>\n",
       "  </tbody>\n",
       "</table>\n",
       "<p>5 rows × 61 columns</p>\n",
       "</div>"
      ],
      "text/plain": [
       "   REGISTRO              ENTREVISTADOR   FECHAINI   HORAINI   FECHAFIN  \\\n",
       "0         4   GUILLEM MILIAN, LAUREANO  2/13/2019  15:19:21  2/13/2019   \n",
       "1         5  YUSTE ALARCON, MONTSERRAT  2/13/2019  15:19:42  2/13/2019   \n",
       "2         6      OVIEDO HEREDIA, THAIS  2/13/2019  15:20:04  2/13/2019   \n",
       "3        27       RIOS GONZALEZ, ANGEL  2/13/2019  15:25:19  2/13/2019   \n",
       "4        28  YUSTE ALARCON, MONTSERRAT  2/13/2019  15:25:34  2/13/2019   \n",
       "\n",
       "    HORAFIN  DURACION   TELEFONO  ID_CONTACTO      ESTADO  ...    \\\n",
       "0  16:30:57       389  698204715      4371986  Finalizada  ...     \n",
       "1  17:35:54       275  639346200      4372758  Finalizada  ...     \n",
       "2  17:29:01       377  609722733      4367939  Finalizada  ...     \n",
       "3  15:29:26       243  604021525      4370221  Finalizada  ...     \n",
       "4  15:32:08       392  640806079      4389758  Finalizada  ...     \n",
       "\n",
       "     PREFER_POLITIC ID_IDEOLOGIA       IDEOLOGIA ID_PERTINEN  \\\n",
       "0      Pablo Casado            3          Centro           5   \n",
       "1     Albert Rivera            3          Centro           3   \n",
       "2  Ninguno de estos           98         No sabe           3   \n",
       "3      Pablo Casado            4  Centro derecha           3   \n",
       "4     Pedro Sánchez            3          Centro           5   \n",
       "\n",
       "                           PERTINEN ID_ESTUDIS  \\\n",
       "0        Únicamente de su comunidad          2   \n",
       "1  Tan español como de su comunidad          5   \n",
       "2  Tan español como de su comunidad          5   \n",
       "3  Tan español como de su comunidad          4   \n",
       "4        Únicamente de su comunidad          2   \n",
       "\n",
       "                          ESTUDIS ID_OCUPACIO    OCUPACIO     CP  \n",
       "0                    Obligatorios           1  Trabajador  28053  \n",
       "1                  Universitarios           1  Trabajador  28017  \n",
       "2                  Universitarios           1  Trabajador  28043  \n",
       "3  Postobligatorios profesionales           1  Trabajador  36001  \n",
       "4                    Obligatorios           1  Trabajador  28021  \n",
       "\n",
       "[5 rows x 61 columns]"
      ]
     },
     "execution_count": 2,
     "metadata": {},
     "output_type": "execute_result"
    }
   ],
   "source": [
    "Febrer_2019 = pd.read_csv('EnquestesFebrer2019.csv', sep=';', header=0, encoding='latin-1')\n",
    "Febrer_2019.head()"
   ]
  },
  {
   "cell_type": "code",
   "execution_count": 3,
   "metadata": {},
   "outputs": [
    {
     "data": {
      "text/html": [
       "<div>\n",
       "<style scoped>\n",
       "    .dataframe tbody tr th:only-of-type {\n",
       "        vertical-align: middle;\n",
       "    }\n",
       "\n",
       "    .dataframe tbody tr th {\n",
       "        vertical-align: top;\n",
       "    }\n",
       "\n",
       "    .dataframe thead th {\n",
       "        text-align: right;\n",
       "    }\n",
       "</style>\n",
       "<table border=\"1\" class=\"dataframe\">\n",
       "  <thead>\n",
       "    <tr style=\"text-align: right;\">\n",
       "      <th></th>\n",
       "      <th>ESTUDIO</th>\n",
       "      <th>ENTREVISTADOR</th>\n",
       "      <th>REGISTRO</th>\n",
       "      <th>FECHAINI</th>\n",
       "      <th>HORAINI</th>\n",
       "      <th>FECHAFIN</th>\n",
       "      <th>HORAFIN</th>\n",
       "      <th>DURACION</th>\n",
       "      <th>TELEFONO</th>\n",
       "      <th>ID_CONTACTO</th>\n",
       "      <th>...</th>\n",
       "      <th>PREFER_POLITIC</th>\n",
       "      <th>ID_IDEOLOGIA</th>\n",
       "      <th>IDEOLOGIA</th>\n",
       "      <th>ID_PERTINEN</th>\n",
       "      <th>PERTINEN</th>\n",
       "      <th>ID_ESTUDIS</th>\n",
       "      <th>ESTUDIS</th>\n",
       "      <th>ID_OCUPACIO</th>\n",
       "      <th>OCUPACIO</th>\n",
       "      <th>CP</th>\n",
       "    </tr>\n",
       "  </thead>\n",
       "  <tbody>\n",
       "    <tr>\n",
       "      <th>0</th>\n",
       "      <td>1179_EPE_ABRIL</td>\n",
       "      <td>ALCANTARA VAZQUEZ, ESTHER</td>\n",
       "      <td>62</td>\n",
       "      <td>04/01/2019</td>\n",
       "      <td>12:53:51</td>\n",
       "      <td>04/01/2019</td>\n",
       "      <td>18:07:30</td>\n",
       "      <td>351</td>\n",
       "      <td>616370419</td>\n",
       "      <td>4593749</td>\n",
       "      <td>...</td>\n",
       "      <td>Albert Rivera</td>\n",
       "      <td>3</td>\n",
       "      <td>Centro</td>\n",
       "      <td>3</td>\n",
       "      <td>Tan español como de su comunidad</td>\n",
       "      <td>5</td>\n",
       "      <td>Universitarios</td>\n",
       "      <td>1</td>\n",
       "      <td>Trabajador</td>\n",
       "      <td>23660</td>\n",
       "    </tr>\n",
       "    <tr>\n",
       "      <th>1</th>\n",
       "      <td>1179_EPE_ABRIL</td>\n",
       "      <td>ALCANTARA VAZQUEZ, ESTHER</td>\n",
       "      <td>63</td>\n",
       "      <td>04/01/2019</td>\n",
       "      <td>12:53:58</td>\n",
       "      <td>04/01/2019</td>\n",
       "      <td>12:59:53</td>\n",
       "      <td>351</td>\n",
       "      <td>654848064</td>\n",
       "      <td>4643391</td>\n",
       "      <td>...</td>\n",
       "      <td>Pedro Sánchez</td>\n",
       "      <td>1</td>\n",
       "      <td>Izquierda</td>\n",
       "      <td>3</td>\n",
       "      <td>Tan español como de su comunidad</td>\n",
       "      <td>5</td>\n",
       "      <td>Universitarios</td>\n",
       "      <td>5</td>\n",
       "      <td>Parado</td>\n",
       "      <td>46730</td>\n",
       "    </tr>\n",
       "    <tr>\n",
       "      <th>2</th>\n",
       "      <td>1179_EPE_ABRIL</td>\n",
       "      <td>PERALES MELUS, M. CARMEN</td>\n",
       "      <td>65</td>\n",
       "      <td>04/01/2019</td>\n",
       "      <td>12:54:23</td>\n",
       "      <td>04/01/2019</td>\n",
       "      <td>18:05:32</td>\n",
       "      <td>283</td>\n",
       "      <td>636314067</td>\n",
       "      <td>4598448</td>\n",
       "      <td>...</td>\n",
       "      <td>Albert Rivera</td>\n",
       "      <td>4</td>\n",
       "      <td>Centro derecha</td>\n",
       "      <td>3</td>\n",
       "      <td>Tan español como de su comunidad</td>\n",
       "      <td>5</td>\n",
       "      <td>Universitarios</td>\n",
       "      <td>1</td>\n",
       "      <td>Trabajador</td>\n",
       "      <td>28805</td>\n",
       "    </tr>\n",
       "    <tr>\n",
       "      <th>3</th>\n",
       "      <td>1179_EPE_ABRIL</td>\n",
       "      <td>HERNANDEZ GOMEZ, SORAYA</td>\n",
       "      <td>70</td>\n",
       "      <td>04/01/2019</td>\n",
       "      <td>12:54:47</td>\n",
       "      <td>04/01/2019</td>\n",
       "      <td>12:59:13</td>\n",
       "      <td>260</td>\n",
       "      <td>626530536</td>\n",
       "      <td>4627226</td>\n",
       "      <td>...</td>\n",
       "      <td>Pablo Iglesias</td>\n",
       "      <td>1</td>\n",
       "      <td>Izquierda</td>\n",
       "      <td>98</td>\n",
       "      <td>No sabe</td>\n",
       "      <td>3</td>\n",
       "      <td>Postobligatorios</td>\n",
       "      <td>6</td>\n",
       "      <td>Jubilado, pensionista</td>\n",
       "      <td>20302</td>\n",
       "    </tr>\n",
       "    <tr>\n",
       "      <th>4</th>\n",
       "      <td>1179_EPE_ABRIL</td>\n",
       "      <td>GIRALDEZ PALACIOS, CRISTINA</td>\n",
       "      <td>82</td>\n",
       "      <td>04/01/2019</td>\n",
       "      <td>12:56:14</td>\n",
       "      <td>04/01/2019</td>\n",
       "      <td>13:00:39</td>\n",
       "      <td>259</td>\n",
       "      <td>649819027</td>\n",
       "      <td>4614667</td>\n",
       "      <td>...</td>\n",
       "      <td>Pablo Casado</td>\n",
       "      <td>4</td>\n",
       "      <td>Centro derecha</td>\n",
       "      <td>3</td>\n",
       "      <td>Tan español como de su comunidad</td>\n",
       "      <td>5</td>\n",
       "      <td>Universitarios</td>\n",
       "      <td>1</td>\n",
       "      <td>Trabajador</td>\n",
       "      <td>38007</td>\n",
       "    </tr>\n",
       "  </tbody>\n",
       "</table>\n",
       "<p>5 rows × 60 columns</p>\n",
       "</div>"
      ],
      "text/plain": [
       "          ESTUDIO                ENTREVISTADOR  REGISTRO    FECHAINI  \\\n",
       "0  1179_EPE_ABRIL    ALCANTARA VAZQUEZ, ESTHER        62  04/01/2019   \n",
       "1  1179_EPE_ABRIL    ALCANTARA VAZQUEZ, ESTHER        63  04/01/2019   \n",
       "2  1179_EPE_ABRIL     PERALES MELUS, M. CARMEN        65  04/01/2019   \n",
       "3  1179_EPE_ABRIL      HERNANDEZ GOMEZ, SORAYA        70  04/01/2019   \n",
       "4  1179_EPE_ABRIL  GIRALDEZ PALACIOS, CRISTINA        82  04/01/2019   \n",
       "\n",
       "    HORAINI    FECHAFIN   HORAFIN  DURACION   TELEFONO  ID_CONTACTO  ...    \\\n",
       "0  12:53:51  04/01/2019  18:07:30       351  616370419      4593749  ...     \n",
       "1  12:53:58  04/01/2019  12:59:53       351  654848064      4643391  ...     \n",
       "2  12:54:23  04/01/2019  18:05:32       283  636314067      4598448  ...     \n",
       "3  12:54:47  04/01/2019  12:59:13       260  626530536      4627226  ...     \n",
       "4  12:56:14  04/01/2019  13:00:39       259  649819027      4614667  ...     \n",
       "\n",
       "   PREFER_POLITIC ID_IDEOLOGIA       IDEOLOGIA ID_PERTINEN  \\\n",
       "0   Albert Rivera            3          Centro           3   \n",
       "1   Pedro Sánchez            1       Izquierda           3   \n",
       "2   Albert Rivera            4  Centro derecha           3   \n",
       "3  Pablo Iglesias            1       Izquierda          98   \n",
       "4    Pablo Casado            4  Centro derecha           3   \n",
       "\n",
       "                           PERTINEN ID_ESTUDIS           ESTUDIS  ID_OCUPACIO  \\\n",
       "0  Tan español como de su comunidad          5    Universitarios            1   \n",
       "1  Tan español como de su comunidad          5    Universitarios            5   \n",
       "2  Tan español como de su comunidad          5    Universitarios            1   \n",
       "3                           No sabe          3  Postobligatorios            6   \n",
       "4  Tan español como de su comunidad          5    Universitarios            1   \n",
       "\n",
       "                OCUPACIO     CP  \n",
       "0             Trabajador  23660  \n",
       "1                 Parado  46730  \n",
       "2             Trabajador  28805  \n",
       "3  Jubilado, pensionista  20302  \n",
       "4             Trabajador  38007  \n",
       "\n",
       "[5 rows x 60 columns]"
      ]
     },
     "execution_count": 3,
     "metadata": {},
     "output_type": "execute_result"
    }
   ],
   "source": [
    "Abril_2019 = pd.read_csv('EnquestesAbril2019.csv', sep=';', header=0, encoding='latin-1')\n",
    "Abril_2019.head()"
   ]
  },
  {
   "cell_type": "code",
   "execution_count": 4,
   "metadata": {},
   "outputs": [
    {
     "data": {
      "text/plain": [
       "RangeIndex(start=0, stop=1000, step=1)"
      ]
     },
     "execution_count": 4,
     "metadata": {},
     "output_type": "execute_result"
    }
   ],
   "source": [
    "Febrer_2019.index"
   ]
  },
  {
   "cell_type": "code",
   "execution_count": 5,
   "metadata": {
    "scrolled": true
   },
   "outputs": [
    {
     "data": {
      "text/plain": [
       "RangeIndex(start=0, stop=1000, step=1)"
      ]
     },
     "execution_count": 5,
     "metadata": {},
     "output_type": "execute_result"
    }
   ],
   "source": [
    "Abril_2019.index"
   ]
  },
  {
   "cell_type": "code",
   "execution_count": 6,
   "metadata": {
    "scrolled": false
   },
   "outputs": [
    {
     "data": {
      "text/html": [
       "<div>\n",
       "<style scoped>\n",
       "    .dataframe tbody tr th:only-of-type {\n",
       "        vertical-align: middle;\n",
       "    }\n",
       "\n",
       "    .dataframe tbody tr th {\n",
       "        vertical-align: top;\n",
       "    }\n",
       "\n",
       "    .dataframe thead th {\n",
       "        text-align: right;\n",
       "    }\n",
       "</style>\n",
       "<table border=\"1\" class=\"dataframe\">\n",
       "  <thead>\n",
       "    <tr style=\"text-align: right;\">\n",
       "      <th></th>\n",
       "      <th>REGISTRO</th>\n",
       "      <th>DURACION</th>\n",
       "      <th>TELEFONO</th>\n",
       "      <th>ID_CONTACTO</th>\n",
       "      <th>ID_AUT</th>\n",
       "      <th>ID_HABI</th>\n",
       "      <th>CMUNI</th>\n",
       "      <th>ID_SEXE</th>\n",
       "      <th>EDAT</th>\n",
       "      <th>ID_EDATCOD</th>\n",
       "      <th>...</th>\n",
       "      <th>ID_CONEIX_IGLESIAS</th>\n",
       "      <th>VAL_IGLESIAS</th>\n",
       "      <th>ID_CONEIX_ABASCAL</th>\n",
       "      <th>VAL_ABASCAL</th>\n",
       "      <th>ID_PREFER_POLITIC</th>\n",
       "      <th>ID_IDEOLOGIA</th>\n",
       "      <th>ID_PERTINEN</th>\n",
       "      <th>ID_ESTUDIS</th>\n",
       "      <th>ID_OCUPACIO</th>\n",
       "      <th>CP</th>\n",
       "    </tr>\n",
       "  </thead>\n",
       "  <tbody>\n",
       "    <tr>\n",
       "      <th>count</th>\n",
       "      <td>1000.000000</td>\n",
       "      <td>1000.000000</td>\n",
       "      <td>1.000000e+03</td>\n",
       "      <td>1.000000e+03</td>\n",
       "      <td>1000.000000</td>\n",
       "      <td>1000.00000</td>\n",
       "      <td>1000.000000</td>\n",
       "      <td>1000.00000</td>\n",
       "      <td>1000.000000</td>\n",
       "      <td>1000.00000</td>\n",
       "      <td>...</td>\n",
       "      <td>1000.000000</td>\n",
       "      <td>993.000000</td>\n",
       "      <td>1000.000000</td>\n",
       "      <td>871.000000</td>\n",
       "      <td>1000.000000</td>\n",
       "      <td>1000.000000</td>\n",
       "      <td>1000.00000</td>\n",
       "      <td>1000.000000</td>\n",
       "      <td>1000.000000</td>\n",
       "      <td>1000.000000</td>\n",
       "    </tr>\n",
       "    <tr>\n",
       "      <th>mean</th>\n",
       "      <td>3015.687000</td>\n",
       "      <td>313.529000</td>\n",
       "      <td>7.344907e+08</td>\n",
       "      <td>4.388783e+06</td>\n",
       "      <td>8.285000</td>\n",
       "      <td>2.37200</td>\n",
       "      <td>55923.007000</td>\n",
       "      <td>1.51000</td>\n",
       "      <td>50.390000</td>\n",
       "      <td>2.80300</td>\n",
       "      <td>...</td>\n",
       "      <td>1.007000</td>\n",
       "      <td>5.554884</td>\n",
       "      <td>1.129000</td>\n",
       "      <td>9.421355</td>\n",
       "      <td>24.323000</td>\n",
       "      <td>11.621000</td>\n",
       "      <td>6.44400</td>\n",
       "      <td>3.632000</td>\n",
       "      <td>3.440000</td>\n",
       "      <td>30956.864000</td>\n",
       "    </tr>\n",
       "    <tr>\n",
       "      <th>std</th>\n",
       "      <td>1938.960031</td>\n",
       "      <td>100.230461</td>\n",
       "      <td>1.389571e+08</td>\n",
       "      <td>1.210661e+04</td>\n",
       "      <td>4.712322</td>\n",
       "      <td>0.98009</td>\n",
       "      <td>47190.527603</td>\n",
       "      <td>0.50015</td>\n",
       "      <td>16.208227</td>\n",
       "      <td>1.03405</td>\n",
       "      <td>...</td>\n",
       "      <td>0.083414</td>\n",
       "      <td>14.260228</td>\n",
       "      <td>0.335368</td>\n",
       "      <td>24.347871</td>\n",
       "      <td>39.074538</td>\n",
       "      <td>28.111699</td>\n",
       "      <td>18.54278</td>\n",
       "      <td>1.283832</td>\n",
       "      <td>3.994541</td>\n",
       "      <td>23465.081219</td>\n",
       "    </tr>\n",
       "    <tr>\n",
       "      <th>min</th>\n",
       "      <td>4.000000</td>\n",
       "      <td>110.000000</td>\n",
       "      <td>6.002043e+08</td>\n",
       "      <td>4.367393e+06</td>\n",
       "      <td>1.000000</td>\n",
       "      <td>1.00000</td>\n",
       "      <td>1.000000</td>\n",
       "      <td>1.00000</td>\n",
       "      <td>18.000000</td>\n",
       "      <td>1.00000</td>\n",
       "      <td>...</td>\n",
       "      <td>1.000000</td>\n",
       "      <td>0.000000</td>\n",
       "      <td>1.000000</td>\n",
       "      <td>0.000000</td>\n",
       "      <td>1.000000</td>\n",
       "      <td>1.000000</td>\n",
       "      <td>1.00000</td>\n",
       "      <td>1.000000</td>\n",
       "      <td>1.000000</td>\n",
       "      <td>1004.000000</td>\n",
       "    </tr>\n",
       "    <tr>\n",
       "      <th>25%</th>\n",
       "      <td>1366.750000</td>\n",
       "      <td>251.000000</td>\n",
       "      <td>6.351688e+08</td>\n",
       "      <td>4.378338e+06</td>\n",
       "      <td>4.000000</td>\n",
       "      <td>2.00000</td>\n",
       "      <td>91.000000</td>\n",
       "      <td>1.00000</td>\n",
       "      <td>38.000000</td>\n",
       "      <td>2.00000</td>\n",
       "      <td>...</td>\n",
       "      <td>1.000000</td>\n",
       "      <td>0.000000</td>\n",
       "      <td>1.000000</td>\n",
       "      <td>0.000000</td>\n",
       "      <td>2.000000</td>\n",
       "      <td>1.000000</td>\n",
       "      <td>2.00000</td>\n",
       "      <td>2.000000</td>\n",
       "      <td>1.000000</td>\n",
       "      <td>12455.000000</td>\n",
       "    </tr>\n",
       "    <tr>\n",
       "      <th>50%</th>\n",
       "      <td>2947.500000</td>\n",
       "      <td>291.000000</td>\n",
       "      <td>6.665123e+08</td>\n",
       "      <td>4.388836e+06</td>\n",
       "      <td>9.000000</td>\n",
       "      <td>2.00000</td>\n",
       "      <td>99995.000000</td>\n",
       "      <td>2.00000</td>\n",
       "      <td>50.000000</td>\n",
       "      <td>3.00000</td>\n",
       "      <td>...</td>\n",
       "      <td>1.000000</td>\n",
       "      <td>4.000000</td>\n",
       "      <td>1.000000</td>\n",
       "      <td>2.000000</td>\n",
       "      <td>4.000000</td>\n",
       "      <td>3.000000</td>\n",
       "      <td>3.00000</td>\n",
       "      <td>4.000000</td>\n",
       "      <td>1.000000</td>\n",
       "      <td>28310.000000</td>\n",
       "    </tr>\n",
       "    <tr>\n",
       "      <th>75%</th>\n",
       "      <td>4595.750000</td>\n",
       "      <td>351.250000</td>\n",
       "      <td>9.223462e+08</td>\n",
       "      <td>4.399754e+06</td>\n",
       "      <td>12.000000</td>\n",
       "      <td>3.00000</td>\n",
       "      <td>99995.000000</td>\n",
       "      <td>2.00000</td>\n",
       "      <td>62.000000</td>\n",
       "      <td>4.00000</td>\n",
       "      <td>...</td>\n",
       "      <td>1.000000</td>\n",
       "      <td>5.000000</td>\n",
       "      <td>1.000000</td>\n",
       "      <td>6.000000</td>\n",
       "      <td>14.000000</td>\n",
       "      <td>4.000000</td>\n",
       "      <td>3.00000</td>\n",
       "      <td>5.000000</td>\n",
       "      <td>6.000000</td>\n",
       "      <td>41013.000000</td>\n",
       "    </tr>\n",
       "    <tr>\n",
       "      <th>max</th>\n",
       "      <td>6974.000000</td>\n",
       "      <td>1205.000000</td>\n",
       "      <td>9.882715e+08</td>\n",
       "      <td>4.409255e+06</td>\n",
       "      <td>19.000000</td>\n",
       "      <td>4.00000</td>\n",
       "      <td>99995.000000</td>\n",
       "      <td>2.00000</td>\n",
       "      <td>94.000000</td>\n",
       "      <td>4.00000</td>\n",
       "      <td>...</td>\n",
       "      <td>2.000000</td>\n",
       "      <td>99.000000</td>\n",
       "      <td>2.000000</td>\n",
       "      <td>99.000000</td>\n",
       "      <td>99.000000</td>\n",
       "      <td>99.000000</td>\n",
       "      <td>99.00000</td>\n",
       "      <td>5.000000</td>\n",
       "      <td>99.000000</td>\n",
       "      <td>99999.000000</td>\n",
       "    </tr>\n",
       "  </tbody>\n",
       "</table>\n",
       "<p>8 rows × 32 columns</p>\n",
       "</div>"
      ],
      "text/plain": [
       "          REGISTRO     DURACION      TELEFONO   ID_CONTACTO       ID_AUT  \\\n",
       "count  1000.000000  1000.000000  1.000000e+03  1.000000e+03  1000.000000   \n",
       "mean   3015.687000   313.529000  7.344907e+08  4.388783e+06     8.285000   \n",
       "std    1938.960031   100.230461  1.389571e+08  1.210661e+04     4.712322   \n",
       "min       4.000000   110.000000  6.002043e+08  4.367393e+06     1.000000   \n",
       "25%    1366.750000   251.000000  6.351688e+08  4.378338e+06     4.000000   \n",
       "50%    2947.500000   291.000000  6.665123e+08  4.388836e+06     9.000000   \n",
       "75%    4595.750000   351.250000  9.223462e+08  4.399754e+06    12.000000   \n",
       "max    6974.000000  1205.000000  9.882715e+08  4.409255e+06    19.000000   \n",
       "\n",
       "          ID_HABI         CMUNI     ID_SEXE         EDAT  ID_EDATCOD  \\\n",
       "count  1000.00000   1000.000000  1000.00000  1000.000000  1000.00000   \n",
       "mean      2.37200  55923.007000     1.51000    50.390000     2.80300   \n",
       "std       0.98009  47190.527603     0.50015    16.208227     1.03405   \n",
       "min       1.00000      1.000000     1.00000    18.000000     1.00000   \n",
       "25%       2.00000     91.000000     1.00000    38.000000     2.00000   \n",
       "50%       2.00000  99995.000000     2.00000    50.000000     3.00000   \n",
       "75%       3.00000  99995.000000     2.00000    62.000000     4.00000   \n",
       "max       4.00000  99995.000000     2.00000    94.000000     4.00000   \n",
       "\n",
       "           ...       ID_CONEIX_IGLESIAS  VAL_IGLESIAS  ID_CONEIX_ABASCAL  \\\n",
       "count      ...              1000.000000    993.000000        1000.000000   \n",
       "mean       ...                 1.007000      5.554884           1.129000   \n",
       "std        ...                 0.083414     14.260228           0.335368   \n",
       "min        ...                 1.000000      0.000000           1.000000   \n",
       "25%        ...                 1.000000      0.000000           1.000000   \n",
       "50%        ...                 1.000000      4.000000           1.000000   \n",
       "75%        ...                 1.000000      5.000000           1.000000   \n",
       "max        ...                 2.000000     99.000000           2.000000   \n",
       "\n",
       "       VAL_ABASCAL  ID_PREFER_POLITIC  ID_IDEOLOGIA  ID_PERTINEN   ID_ESTUDIS  \\\n",
       "count   871.000000        1000.000000   1000.000000   1000.00000  1000.000000   \n",
       "mean      9.421355          24.323000     11.621000      6.44400     3.632000   \n",
       "std      24.347871          39.074538     28.111699     18.54278     1.283832   \n",
       "min       0.000000           1.000000      1.000000      1.00000     1.000000   \n",
       "25%       0.000000           2.000000      1.000000      2.00000     2.000000   \n",
       "50%       2.000000           4.000000      3.000000      3.00000     4.000000   \n",
       "75%       6.000000          14.000000      4.000000      3.00000     5.000000   \n",
       "max      99.000000          99.000000     99.000000     99.00000     5.000000   \n",
       "\n",
       "       ID_OCUPACIO            CP  \n",
       "count  1000.000000   1000.000000  \n",
       "mean      3.440000  30956.864000  \n",
       "std       3.994541  23465.081219  \n",
       "min       1.000000   1004.000000  \n",
       "25%       1.000000  12455.000000  \n",
       "50%       1.000000  28310.000000  \n",
       "75%       6.000000  41013.000000  \n",
       "max      99.000000  99999.000000  \n",
       "\n",
       "[8 rows x 32 columns]"
      ]
     },
     "execution_count": 6,
     "metadata": {},
     "output_type": "execute_result"
    }
   ],
   "source": [
    "Febrer_2019.describe()"
   ]
  },
  {
   "cell_type": "code",
   "execution_count": 7,
   "metadata": {
    "scrolled": true
   },
   "outputs": [
    {
     "data": {
      "text/html": [
       "<div>\n",
       "<style scoped>\n",
       "    .dataframe tbody tr th:only-of-type {\n",
       "        vertical-align: middle;\n",
       "    }\n",
       "\n",
       "    .dataframe tbody tr th {\n",
       "        vertical-align: top;\n",
       "    }\n",
       "\n",
       "    .dataframe thead th {\n",
       "        text-align: right;\n",
       "    }\n",
       "</style>\n",
       "<table border=\"1\" class=\"dataframe\">\n",
       "  <thead>\n",
       "    <tr style=\"text-align: right;\">\n",
       "      <th></th>\n",
       "      <th>REGISTRO</th>\n",
       "      <th>DURACION</th>\n",
       "      <th>TELEFONO</th>\n",
       "      <th>ID_CONTACTO</th>\n",
       "      <th>ID_AUT</th>\n",
       "      <th>ID_HABI</th>\n",
       "      <th>CMUNI</th>\n",
       "      <th>ID_SEXE</th>\n",
       "      <th>EDAT</th>\n",
       "      <th>ID_EDATCOD</th>\n",
       "      <th>...</th>\n",
       "      <th>VAL_RIVERA</th>\n",
       "      <th>VAL_SANCHEZ</th>\n",
       "      <th>VAL_IGLESIAS</th>\n",
       "      <th>VAL_ABASCAL</th>\n",
       "      <th>ID_PREFER_POLITIC</th>\n",
       "      <th>ID_IDEOLOGIA</th>\n",
       "      <th>ID_PERTINEN</th>\n",
       "      <th>ID_ESTUDIS</th>\n",
       "      <th>ID_OCUPACIO</th>\n",
       "      <th>CP</th>\n",
       "    </tr>\n",
       "  </thead>\n",
       "  <tbody>\n",
       "    <tr>\n",
       "      <th>count</th>\n",
       "      <td>1000.000000</td>\n",
       "      <td>1000.000000</td>\n",
       "      <td>1.000000e+03</td>\n",
       "      <td>1.000000e+03</td>\n",
       "      <td>1000.000000</td>\n",
       "      <td>1000.000000</td>\n",
       "      <td>1000.000000</td>\n",
       "      <td>1000.000000</td>\n",
       "      <td>1000.000000</td>\n",
       "      <td>1000.000000</td>\n",
       "      <td>...</td>\n",
       "      <td>989.000000</td>\n",
       "      <td>998.000000</td>\n",
       "      <td>995.000000</td>\n",
       "      <td>885.000000</td>\n",
       "      <td>1000.000000</td>\n",
       "      <td>1000.00000</td>\n",
       "      <td>1000.000000</td>\n",
       "      <td>1000.000000</td>\n",
       "      <td>1000.000000</td>\n",
       "      <td>1000.000000</td>\n",
       "    </tr>\n",
       "    <tr>\n",
       "      <th>mean</th>\n",
       "      <td>4317.138000</td>\n",
       "      <td>347.596000</td>\n",
       "      <td>7.114492e+08</td>\n",
       "      <td>4.620349e+06</td>\n",
       "      <td>8.284000</td>\n",
       "      <td>2.349000</td>\n",
       "      <td>63933.233000</td>\n",
       "      <td>1.514000</td>\n",
       "      <td>49.764000</td>\n",
       "      <td>2.771000</td>\n",
       "      <td>...</td>\n",
       "      <td>8.037412</td>\n",
       "      <td>7.587174</td>\n",
       "      <td>7.278392</td>\n",
       "      <td>8.183051</td>\n",
       "      <td>20.997000</td>\n",
       "      <td>10.79800</td>\n",
       "      <td>6.726000</td>\n",
       "      <td>3.678000</td>\n",
       "      <td>3.457000</td>\n",
       "      <td>31416.353000</td>\n",
       "    </tr>\n",
       "    <tr>\n",
       "      <th>std</th>\n",
       "      <td>3418.627706</td>\n",
       "      <td>100.929885</td>\n",
       "      <td>1.256962e+08</td>\n",
       "      <td>1.658511e+04</td>\n",
       "      <td>4.702069</td>\n",
       "      <td>0.989028</td>\n",
       "      <td>38562.124797</td>\n",
       "      <td>0.500054</td>\n",
       "      <td>16.398391</td>\n",
       "      <td>1.040982</td>\n",
       "      <td>...</td>\n",
       "      <td>17.976864</td>\n",
       "      <td>16.472156</td>\n",
       "      <td>18.080634</td>\n",
       "      <td>22.693022</td>\n",
       "      <td>36.635299</td>\n",
       "      <td>27.04031</td>\n",
       "      <td>19.247321</td>\n",
       "      <td>3.287114</td>\n",
       "      <td>4.017747</td>\n",
       "      <td>24066.914162</td>\n",
       "    </tr>\n",
       "    <tr>\n",
       "      <th>min</th>\n",
       "      <td>62.000000</td>\n",
       "      <td>155.000000</td>\n",
       "      <td>6.000782e+08</td>\n",
       "      <td>4.592034e+06</td>\n",
       "      <td>1.000000</td>\n",
       "      <td>1.000000</td>\n",
       "      <td>1059.000000</td>\n",
       "      <td>1.000000</td>\n",
       "      <td>18.000000</td>\n",
       "      <td>1.000000</td>\n",
       "      <td>...</td>\n",
       "      <td>0.000000</td>\n",
       "      <td>0.000000</td>\n",
       "      <td>0.000000</td>\n",
       "      <td>0.000000</td>\n",
       "      <td>1.000000</td>\n",
       "      <td>1.00000</td>\n",
       "      <td>1.000000</td>\n",
       "      <td>1.000000</td>\n",
       "      <td>1.000000</td>\n",
       "      <td>1003.000000</td>\n",
       "    </tr>\n",
       "    <tr>\n",
       "      <th>25%</th>\n",
       "      <td>1313.500000</td>\n",
       "      <td>278.750000</td>\n",
       "      <td>6.309790e+08</td>\n",
       "      <td>4.606175e+06</td>\n",
       "      <td>4.000000</td>\n",
       "      <td>2.000000</td>\n",
       "      <td>28079.000000</td>\n",
       "      <td>1.000000</td>\n",
       "      <td>38.000000</td>\n",
       "      <td>2.000000</td>\n",
       "      <td>...</td>\n",
       "      <td>3.000000</td>\n",
       "      <td>3.000000</td>\n",
       "      <td>1.000000</td>\n",
       "      <td>0.000000</td>\n",
       "      <td>2.000000</td>\n",
       "      <td>1.00000</td>\n",
       "      <td>2.000000</td>\n",
       "      <td>2.000000</td>\n",
       "      <td>1.000000</td>\n",
       "      <td>13287.500000</td>\n",
       "    </tr>\n",
       "    <tr>\n",
       "      <th>50%</th>\n",
       "      <td>3122.500000</td>\n",
       "      <td>327.000000</td>\n",
       "      <td>6.588524e+08</td>\n",
       "      <td>4.620460e+06</td>\n",
       "      <td>9.000000</td>\n",
       "      <td>2.000000</td>\n",
       "      <td>99995.000000</td>\n",
       "      <td>2.000000</td>\n",
       "      <td>50.000000</td>\n",
       "      <td>3.000000</td>\n",
       "      <td>...</td>\n",
       "      <td>5.000000</td>\n",
       "      <td>5.000000</td>\n",
       "      <td>4.000000</td>\n",
       "      <td>2.000000</td>\n",
       "      <td>4.000000</td>\n",
       "      <td>2.00000</td>\n",
       "      <td>3.000000</td>\n",
       "      <td>4.000000</td>\n",
       "      <td>1.000000</td>\n",
       "      <td>28360.000000</td>\n",
       "    </tr>\n",
       "    <tr>\n",
       "      <th>75%</th>\n",
       "      <td>7888.750000</td>\n",
       "      <td>392.000000</td>\n",
       "      <td>6.923855e+08</td>\n",
       "      <td>4.634422e+06</td>\n",
       "      <td>12.000000</td>\n",
       "      <td>3.000000</td>\n",
       "      <td>99995.000000</td>\n",
       "      <td>2.000000</td>\n",
       "      <td>62.000000</td>\n",
       "      <td>4.000000</td>\n",
       "      <td>...</td>\n",
       "      <td>7.000000</td>\n",
       "      <td>7.000000</td>\n",
       "      <td>6.000000</td>\n",
       "      <td>5.000000</td>\n",
       "      <td>5.000000</td>\n",
       "      <td>4.00000</td>\n",
       "      <td>3.000000</td>\n",
       "      <td>5.000000</td>\n",
       "      <td>6.000000</td>\n",
       "      <td>41019.250000</td>\n",
       "    </tr>\n",
       "    <tr>\n",
       "      <th>max</th>\n",
       "      <td>10803.000000</td>\n",
       "      <td>1336.000000</td>\n",
       "      <td>9.884713e+08</td>\n",
       "      <td>4.649592e+06</td>\n",
       "      <td>19.000000</td>\n",
       "      <td>4.000000</td>\n",
       "      <td>99995.000000</td>\n",
       "      <td>2.000000</td>\n",
       "      <td>92.000000</td>\n",
       "      <td>4.000000</td>\n",
       "      <td>...</td>\n",
       "      <td>99.000000</td>\n",
       "      <td>99.000000</td>\n",
       "      <td>99.000000</td>\n",
       "      <td>99.000000</td>\n",
       "      <td>99.000000</td>\n",
       "      <td>99.00000</td>\n",
       "      <td>99.000000</td>\n",
       "      <td>99.000000</td>\n",
       "      <td>99.000000</td>\n",
       "      <td>99999.000000</td>\n",
       "    </tr>\n",
       "  </tbody>\n",
       "</table>\n",
       "<p>8 rows × 32 columns</p>\n",
       "</div>"
      ],
      "text/plain": [
       "           REGISTRO     DURACION      TELEFONO   ID_CONTACTO       ID_AUT  \\\n",
       "count   1000.000000  1000.000000  1.000000e+03  1.000000e+03  1000.000000   \n",
       "mean    4317.138000   347.596000  7.114492e+08  4.620349e+06     8.284000   \n",
       "std     3418.627706   100.929885  1.256962e+08  1.658511e+04     4.702069   \n",
       "min       62.000000   155.000000  6.000782e+08  4.592034e+06     1.000000   \n",
       "25%     1313.500000   278.750000  6.309790e+08  4.606175e+06     4.000000   \n",
       "50%     3122.500000   327.000000  6.588524e+08  4.620460e+06     9.000000   \n",
       "75%     7888.750000   392.000000  6.923855e+08  4.634422e+06    12.000000   \n",
       "max    10803.000000  1336.000000  9.884713e+08  4.649592e+06    19.000000   \n",
       "\n",
       "           ID_HABI         CMUNI      ID_SEXE         EDAT   ID_EDATCOD  \\\n",
       "count  1000.000000   1000.000000  1000.000000  1000.000000  1000.000000   \n",
       "mean      2.349000  63933.233000     1.514000    49.764000     2.771000   \n",
       "std       0.989028  38562.124797     0.500054    16.398391     1.040982   \n",
       "min       1.000000   1059.000000     1.000000    18.000000     1.000000   \n",
       "25%       2.000000  28079.000000     1.000000    38.000000     2.000000   \n",
       "50%       2.000000  99995.000000     2.000000    50.000000     3.000000   \n",
       "75%       3.000000  99995.000000     2.000000    62.000000     4.000000   \n",
       "max       4.000000  99995.000000     2.000000    92.000000     4.000000   \n",
       "\n",
       "           ...       VAL_RIVERA  VAL_SANCHEZ  VAL_IGLESIAS  VAL_ABASCAL  \\\n",
       "count      ...       989.000000   998.000000    995.000000   885.000000   \n",
       "mean       ...         8.037412     7.587174      7.278392     8.183051   \n",
       "std        ...        17.976864    16.472156     18.080634    22.693022   \n",
       "min        ...         0.000000     0.000000      0.000000     0.000000   \n",
       "25%        ...         3.000000     3.000000      1.000000     0.000000   \n",
       "50%        ...         5.000000     5.000000      4.000000     2.000000   \n",
       "75%        ...         7.000000     7.000000      6.000000     5.000000   \n",
       "max        ...        99.000000    99.000000     99.000000    99.000000   \n",
       "\n",
       "       ID_PREFER_POLITIC  ID_IDEOLOGIA  ID_PERTINEN   ID_ESTUDIS  ID_OCUPACIO  \\\n",
       "count        1000.000000    1000.00000  1000.000000  1000.000000  1000.000000   \n",
       "mean           20.997000      10.79800     6.726000     3.678000     3.457000   \n",
       "std            36.635299      27.04031    19.247321     3.287114     4.017747   \n",
       "min             1.000000       1.00000     1.000000     1.000000     1.000000   \n",
       "25%             2.000000       1.00000     2.000000     2.000000     1.000000   \n",
       "50%             4.000000       2.00000     3.000000     4.000000     1.000000   \n",
       "75%             5.000000       4.00000     3.000000     5.000000     6.000000   \n",
       "max            99.000000      99.00000    99.000000    99.000000    99.000000   \n",
       "\n",
       "                 CP  \n",
       "count   1000.000000  \n",
       "mean   31416.353000  \n",
       "std    24066.914162  \n",
       "min     1003.000000  \n",
       "25%    13287.500000  \n",
       "50%    28360.000000  \n",
       "75%    41019.250000  \n",
       "max    99999.000000  \n",
       "\n",
       "[8 rows x 32 columns]"
      ]
     },
     "execution_count": 7,
     "metadata": {},
     "output_type": "execute_result"
    }
   ],
   "source": [
    "Abril_2019.describe()"
   ]
  },
  {
   "cell_type": "code",
   "execution_count": 8,
   "metadata": {
    "scrolled": true
   },
   "outputs": [
    {
     "data": {
      "text/plain": [
       "REGISTRO                int64\n",
       "ENTREVISTADOR          object\n",
       "FECHAINI               object\n",
       "HORAINI                object\n",
       "FECHAFIN               object\n",
       "HORAFIN                object\n",
       "DURACION                int64\n",
       "TELEFONO                int64\n",
       "ID_CONTACTO             int64\n",
       "ESTADO                 object\n",
       "TIP_TEL                object\n",
       "CPROV                  object\n",
       "ID_AUT                  int64\n",
       "AUT                    object\n",
       "ID_HABI                 int64\n",
       "HABI                   object\n",
       "CMUNI                   int64\n",
       "NMUNI                  object\n",
       "ID_SEXE                 int64\n",
       "SEXE                   object\n",
       "EDAT                    int64\n",
       "ID_EDATCOD              int64\n",
       "EDATCOD                object\n",
       "ID_IMP_ELEC             int64\n",
       "IMP_ELEC               object\n",
       "ID_PROB_VOT_GEN         int64\n",
       "PROB_VOT_GEN           object\n",
       "ID_INT_GEN              int64\n",
       "INT_GEN                object\n",
       "ID_SIMP_GEN           float64\n",
       "                       ...   \n",
       "ID_INT_SIMP_GEN         int64\n",
       "INT_SIMP_GEN           object\n",
       "ID_REC_GEN              int64\n",
       "REC_GEN                object\n",
       "ID_CONEIX_CASADO        int64\n",
       "CONEIX_CASADO          object\n",
       "VAL_CASADO            float64\n",
       "ID_CONEIX_RIVERA        int64\n",
       "CONEIX_RIVERA          object\n",
       "VAL_RIVERA            float64\n",
       "ID_CONEIX_SANCHEZ       int64\n",
       "CONEIX_SANCHEZ         object\n",
       "VAL_SANCHEZ           float64\n",
       "ID_CONEIX_IGLESIAS      int64\n",
       "CONEIX_IGLESIAS        object\n",
       "VAL_IGLESIAS          float64\n",
       "ID_CONEIX_ABASCAL       int64\n",
       "CONEIX_ABASCAL         object\n",
       "VAL_ABASCAL           float64\n",
       "ID_PREFER_POLITIC       int64\n",
       "PREFER_POLITIC         object\n",
       "ID_IDEOLOGIA            int64\n",
       "IDEOLOGIA              object\n",
       "ID_PERTINEN             int64\n",
       "PERTINEN               object\n",
       "ID_ESTUDIS              int64\n",
       "ESTUDIS                object\n",
       "ID_OCUPACIO             int64\n",
       "OCUPACIO               object\n",
       "CP                      int64\n",
       "Length: 61, dtype: object"
      ]
     },
     "execution_count": 8,
     "metadata": {},
     "output_type": "execute_result"
    }
   ],
   "source": [
    "Febrer_2019.dtypes"
   ]
  },
  {
   "cell_type": "code",
   "execution_count": 9,
   "metadata": {
    "scrolled": true
   },
   "outputs": [
    {
     "data": {
      "text/plain": [
       "ESTUDIO                object\n",
       "ENTREVISTADOR          object\n",
       "REGISTRO                int64\n",
       "FECHAINI               object\n",
       "HORAINI                object\n",
       "FECHAFIN               object\n",
       "HORAFIN                object\n",
       "DURACION                int64\n",
       "TELEFONO                int64\n",
       "ID_CONTACTO             int64\n",
       "ESTADO                 object\n",
       "TIP_TEL                object\n",
       "ID_AUT                  int64\n",
       "AUT                    object\n",
       "ID_HABI                 int64\n",
       "HABI                   object\n",
       "CMUNI                   int64\n",
       "ID_SEXE                 int64\n",
       "SEXE                   object\n",
       "EDAT                    int64\n",
       "ID_EDATCOD              int64\n",
       "EDATCOD                object\n",
       "ID_IMP_ELEC             int64\n",
       "IMP_ELEC               object\n",
       "ID_PROB_VOT_GEN         int64\n",
       "PROB_VOT_GEN           object\n",
       "ID_INT_GEN              int64\n",
       "INT_GEN                object\n",
       "ID_SIMP_GEN           float64\n",
       "SIMP_GEN               object\n",
       "ID_INT_SIMP_GEN         int64\n",
       "INT_SIMP_GEN           object\n",
       "ID_REC_GEN              int64\n",
       "REC_GEN                object\n",
       "ID_CONEIX_CASADO        int64\n",
       "CONEIX_CASADO          object\n",
       "ID_CONEIX_RIVERA        int64\n",
       "CONEIX_RIVERA          object\n",
       "ID_CONEIX_SANCHEZ       int64\n",
       "CONEIX_SANCHEZ         object\n",
       "ID_CONEIX_IGLESIAS      int64\n",
       "CONEIX_IGLESIAS        object\n",
       "ID_CONEIX_ABASCAL       int64\n",
       "CONEIX_ABASCAL         object\n",
       "VAL_CASADO            float64\n",
       "VAL_RIVERA            float64\n",
       "VAL_SANCHEZ           float64\n",
       "VAL_IGLESIAS          float64\n",
       "VAL_ABASCAL           float64\n",
       "ID_PREFER_POLITIC       int64\n",
       "PREFER_POLITIC         object\n",
       "ID_IDEOLOGIA            int64\n",
       "IDEOLOGIA              object\n",
       "ID_PERTINEN             int64\n",
       "PERTINEN               object\n",
       "ID_ESTUDIS              int64\n",
       "ESTUDIS                object\n",
       "ID_OCUPACIO             int64\n",
       "OCUPACIO               object\n",
       "CP                      int64\n",
       "dtype: object"
      ]
     },
     "execution_count": 9,
     "metadata": {},
     "output_type": "execute_result"
    }
   ],
   "source": [
    "Abril_2019.dtypes"
   ]
  },
  {
   "cell_type": "markdown",
   "metadata": {},
   "source": [
    "### Vamos a eliminar las columnas que no necesitamos"
   ]
  },
  {
   "cell_type": "code",
   "execution_count": 10,
   "metadata": {},
   "outputs": [
    {
     "data": {
      "text/plain": [
       "Index(['REGISTRO', 'ENTREVISTADOR', 'FECHAINI', 'HORAINI', 'FECHAFIN',\n",
       "       'HORAFIN', 'DURACION', 'TELEFONO', 'ID_CONTACTO', 'ESTADO', 'TIP_TEL',\n",
       "       'CPROV', 'ID_AUT', 'AUT', 'ID_HABI', 'HABI', 'CMUNI', 'NMUNI',\n",
       "       'ID_SEXE', 'SEXE', 'EDAT', 'ID_EDATCOD', 'EDATCOD', 'ID_IMP_ELEC',\n",
       "       'IMP_ELEC', 'ID_PROB_VOT_GEN', 'PROB_VOT_GEN', 'ID_INT_GEN', 'INT_GEN',\n",
       "       'ID_SIMP_GEN', 'SIMP_GEN', 'ID_INT_SIMP_GEN', 'INT_SIMP_GEN',\n",
       "       'ID_REC_GEN', 'REC_GEN', 'ID_CONEIX_CASADO', 'CONEIX_CASADO',\n",
       "       'VAL_CASADO', 'ID_CONEIX_RIVERA', 'CONEIX_RIVERA', 'VAL_RIVERA',\n",
       "       'ID_CONEIX_SANCHEZ', 'CONEIX_SANCHEZ', 'VAL_SANCHEZ',\n",
       "       'ID_CONEIX_IGLESIAS', 'CONEIX_IGLESIAS', 'VAL_IGLESIAS',\n",
       "       'ID_CONEIX_ABASCAL', 'CONEIX_ABASCAL', 'VAL_ABASCAL',\n",
       "       'ID_PREFER_POLITIC', 'PREFER_POLITIC', 'ID_IDEOLOGIA', 'IDEOLOGIA',\n",
       "       'ID_PERTINEN', 'PERTINEN', 'ID_ESTUDIS', 'ESTUDIS', 'ID_OCUPACIO',\n",
       "       'OCUPACIO', 'CP'],\n",
       "      dtype='object')"
      ]
     },
     "execution_count": 10,
     "metadata": {},
     "output_type": "execute_result"
    }
   ],
   "source": [
    "Febrer_2019.columns"
   ]
  },
  {
   "cell_type": "code",
   "execution_count": 11,
   "metadata": {},
   "outputs": [
    {
     "data": {
      "text/plain": [
       "Index(['ESTUDIO', 'ENTREVISTADOR', 'REGISTRO', 'FECHAINI', 'HORAINI',\n",
       "       'FECHAFIN', 'HORAFIN', 'DURACION', 'TELEFONO', 'ID_CONTACTO', 'ESTADO',\n",
       "       'TIP_TEL', 'ID_AUT', 'AUT', 'ID_HABI', 'HABI', 'CMUNI', 'ID_SEXE',\n",
       "       'SEXE', 'EDAT', 'ID_EDATCOD', 'EDATCOD', 'ID_IMP_ELEC', 'IMP_ELEC',\n",
       "       'ID_PROB_VOT_GEN', 'PROB_VOT_GEN', 'ID_INT_GEN', 'INT_GEN',\n",
       "       'ID_SIMP_GEN', 'SIMP_GEN', 'ID_INT_SIMP_GEN', 'INT_SIMP_GEN',\n",
       "       'ID_REC_GEN', 'REC_GEN', 'ID_CONEIX_CASADO', 'CONEIX_CASADO',\n",
       "       'ID_CONEIX_RIVERA', 'CONEIX_RIVERA', 'ID_CONEIX_SANCHEZ',\n",
       "       'CONEIX_SANCHEZ', 'ID_CONEIX_IGLESIAS', 'CONEIX_IGLESIAS',\n",
       "       'ID_CONEIX_ABASCAL', 'CONEIX_ABASCAL', 'VAL_CASADO', 'VAL_RIVERA',\n",
       "       'VAL_SANCHEZ', 'VAL_IGLESIAS', 'VAL_ABASCAL', 'ID_PREFER_POLITIC',\n",
       "       'PREFER_POLITIC', 'ID_IDEOLOGIA', 'IDEOLOGIA', 'ID_PERTINEN',\n",
       "       'PERTINEN', 'ID_ESTUDIS', 'ESTUDIS', 'ID_OCUPACIO', 'OCUPACIO', 'CP'],\n",
       "      dtype='object')"
      ]
     },
     "execution_count": 11,
     "metadata": {},
     "output_type": "execute_result"
    }
   ],
   "source": [
    "Abril_2019.columns"
   ]
  },
  {
   "cell_type": "code",
   "execution_count": 12,
   "metadata": {},
   "outputs": [
    {
     "data": {
      "text/plain": [
       "(1000, 61)"
      ]
     },
     "execution_count": 12,
     "metadata": {},
     "output_type": "execute_result"
    }
   ],
   "source": [
    "Febrer_2019.shape"
   ]
  },
  {
   "cell_type": "code",
   "execution_count": 13,
   "metadata": {},
   "outputs": [
    {
     "data": {
      "text/plain": [
       "(1000, 60)"
      ]
     },
     "execution_count": 13,
     "metadata": {},
     "output_type": "execute_result"
    }
   ],
   "source": [
    "Abril_2019.shape"
   ]
  },
  {
   "cell_type": "code",
   "execution_count": 14,
   "metadata": {},
   "outputs": [],
   "source": [
    "Febrer_2019.drop(['ENTREVISTADOR', 'FECHAINI', 'HORAINI', 'FECHAFIN', 'HORAFIN', 'DURACION',\n",
    "                'TELEFONO', 'ESTADO', 'NMUNI', 'CPROV'], axis='columns', inplace=True)\n",
    "Abril_2019.drop(['ESTUDIO', 'ENTREVISTADOR', 'FECHAINI', 'HORAINI', 'FECHAFIN', 'HORAFIN', 'DURACION',\n",
    "                'TELEFONO', 'ESTADO'], axis='columns', inplace=True)"
   ]
  },
  {
   "cell_type": "code",
   "execution_count": 15,
   "metadata": {},
   "outputs": [
    {
     "data": {
      "text/plain": [
       "(1000, 51)"
      ]
     },
     "execution_count": 15,
     "metadata": {},
     "output_type": "execute_result"
    }
   ],
   "source": [
    "Febrer_2019.shape"
   ]
  },
  {
   "cell_type": "code",
   "execution_count": 16,
   "metadata": {},
   "outputs": [
    {
     "data": {
      "text/plain": [
       "(1000, 51)"
      ]
     },
     "execution_count": 16,
     "metadata": {},
     "output_type": "execute_result"
    }
   ],
   "source": [
    "Abril_2019.shape"
   ]
  },
  {
   "cell_type": "markdown",
   "metadata": {},
   "source": [
    "### Vamos a unir los dos dataSets"
   ]
  },
  {
   "cell_type": "code",
   "execution_count": 17,
   "metadata": {},
   "outputs": [
    {
     "name": "stderr",
     "output_type": "stream",
     "text": [
      "C:\\Users\\Lau\\AppData\\Local\\Continuum\\anaconda3\\lib\\site-packages\\pandas\\core\\frame.py:6201: FutureWarning: Sorting because non-concatenation axis is not aligned. A future version\n",
      "of pandas will change to not sort by default.\n",
      "\n",
      "To accept the future behavior, pass 'sort=True'.\n",
      "\n",
      "To retain the current behavior and silence the warning, pass sort=False\n",
      "\n",
      "  sort=sort)\n"
     ]
    }
   ],
   "source": [
    "Dades_2019 = Febrer_2019.append(Abril_2019)"
   ]
  },
  {
   "cell_type": "code",
   "execution_count": 18,
   "metadata": {},
   "outputs": [
    {
     "data": {
      "text/plain": [
       "(2000, 51)"
      ]
     },
     "execution_count": 18,
     "metadata": {},
     "output_type": "execute_result"
    }
   ],
   "source": [
    "Dades_2019.shape"
   ]
  },
  {
   "cell_type": "code",
   "execution_count": 19,
   "metadata": {},
   "outputs": [
    {
     "data": {
      "text/html": [
       "<div>\n",
       "<style scoped>\n",
       "    .dataframe tbody tr th:only-of-type {\n",
       "        vertical-align: middle;\n",
       "    }\n",
       "\n",
       "    .dataframe tbody tr th {\n",
       "        vertical-align: top;\n",
       "    }\n",
       "\n",
       "    .dataframe thead th {\n",
       "        text-align: right;\n",
       "    }\n",
       "</style>\n",
       "<table border=\"1\" class=\"dataframe\">\n",
       "  <thead>\n",
       "    <tr style=\"text-align: right;\">\n",
       "      <th></th>\n",
       "      <th>AUT</th>\n",
       "      <th>CMUNI</th>\n",
       "      <th>CONEIX_ABASCAL</th>\n",
       "      <th>CONEIX_CASADO</th>\n",
       "      <th>CONEIX_IGLESIAS</th>\n",
       "      <th>CONEIX_RIVERA</th>\n",
       "      <th>CONEIX_SANCHEZ</th>\n",
       "      <th>CP</th>\n",
       "      <th>EDAT</th>\n",
       "      <th>EDATCOD</th>\n",
       "      <th>...</th>\n",
       "      <th>REC_GEN</th>\n",
       "      <th>REGISTRO</th>\n",
       "      <th>SEXE</th>\n",
       "      <th>SIMP_GEN</th>\n",
       "      <th>TIP_TEL</th>\n",
       "      <th>VAL_ABASCAL</th>\n",
       "      <th>VAL_CASADO</th>\n",
       "      <th>VAL_IGLESIAS</th>\n",
       "      <th>VAL_RIVERA</th>\n",
       "      <th>VAL_SANCHEZ</th>\n",
       "    </tr>\n",
       "  </thead>\n",
       "  <tbody>\n",
       "    <tr>\n",
       "      <th>0</th>\n",
       "      <td>Madrid, Comunidad de</td>\n",
       "      <td>28079</td>\n",
       "      <td>Sí</td>\n",
       "      <td>Sí</td>\n",
       "      <td>Sí</td>\n",
       "      <td>Sí</td>\n",
       "      <td>Sí</td>\n",
       "      <td>28053</td>\n",
       "      <td>29</td>\n",
       "      <td>De 18 a 29 años</td>\n",
       "      <td>...</td>\n",
       "      <td>PP</td>\n",
       "      <td>4</td>\n",
       "      <td>Mujer</td>\n",
       "      <td>PP</td>\n",
       "      <td>Móviles aleatorios</td>\n",
       "      <td>4.0</td>\n",
       "      <td>3.0</td>\n",
       "      <td>0.0</td>\n",
       "      <td>5.0</td>\n",
       "      <td>1.0</td>\n",
       "    </tr>\n",
       "    <tr>\n",
       "      <th>1</th>\n",
       "      <td>Madrid, Comunidad de</td>\n",
       "      <td>28079</td>\n",
       "      <td>Sí</td>\n",
       "      <td>Sí</td>\n",
       "      <td>Sí</td>\n",
       "      <td>Sí</td>\n",
       "      <td>Sí</td>\n",
       "      <td>28017</td>\n",
       "      <td>41</td>\n",
       "      <td>De 30 a 44 años</td>\n",
       "      <td>...</td>\n",
       "      <td>C's</td>\n",
       "      <td>5</td>\n",
       "      <td>Mujer</td>\n",
       "      <td>C's</td>\n",
       "      <td>Móviles aleatorios</td>\n",
       "      <td>0.0</td>\n",
       "      <td>1.0</td>\n",
       "      <td>3.0</td>\n",
       "      <td>4.0</td>\n",
       "      <td>4.0</td>\n",
       "    </tr>\n",
       "    <tr>\n",
       "      <th>2</th>\n",
       "      <td>Madrid, Comunidad de</td>\n",
       "      <td>28079</td>\n",
       "      <td>Sí</td>\n",
       "      <td>Sí</td>\n",
       "      <td>Sí</td>\n",
       "      <td>Sí</td>\n",
       "      <td>Sí</td>\n",
       "      <td>28043</td>\n",
       "      <td>50</td>\n",
       "      <td>De 45 a 59 años</td>\n",
       "      <td>...</td>\n",
       "      <td>No votó</td>\n",
       "      <td>6</td>\n",
       "      <td>Hombre</td>\n",
       "      <td>Ninguno</td>\n",
       "      <td>Móviles aleatorios</td>\n",
       "      <td>5.0</td>\n",
       "      <td>5.0</td>\n",
       "      <td>5.0</td>\n",
       "      <td>98.0</td>\n",
       "      <td>5.0</td>\n",
       "    </tr>\n",
       "    <tr>\n",
       "      <th>3</th>\n",
       "      <td>Galicia</td>\n",
       "      <td>99995</td>\n",
       "      <td>Sí</td>\n",
       "      <td>Sí</td>\n",
       "      <td>Sí</td>\n",
       "      <td>Sí</td>\n",
       "      <td>Sí</td>\n",
       "      <td>36001</td>\n",
       "      <td>46</td>\n",
       "      <td>De 45 a 59 años</td>\n",
       "      <td>...</td>\n",
       "      <td>PP</td>\n",
       "      <td>27</td>\n",
       "      <td>Mujer</td>\n",
       "      <td></td>\n",
       "      <td>Móviles aleatorios</td>\n",
       "      <td>2.0</td>\n",
       "      <td>7.0</td>\n",
       "      <td>0.0</td>\n",
       "      <td>5.0</td>\n",
       "      <td>0.0</td>\n",
       "    </tr>\n",
       "    <tr>\n",
       "      <th>4</th>\n",
       "      <td>Madrid, Comunidad de</td>\n",
       "      <td>28079</td>\n",
       "      <td>Sí</td>\n",
       "      <td>Sí</td>\n",
       "      <td>Sí</td>\n",
       "      <td>No</td>\n",
       "      <td>Sí</td>\n",
       "      <td>28021</td>\n",
       "      <td>48</td>\n",
       "      <td>De 45 a 59 años</td>\n",
       "      <td>...</td>\n",
       "      <td>No votó</td>\n",
       "      <td>28</td>\n",
       "      <td>Hombre</td>\n",
       "      <td></td>\n",
       "      <td>Móviles aleatorios</td>\n",
       "      <td>4.0</td>\n",
       "      <td>5.0</td>\n",
       "      <td>5.0</td>\n",
       "      <td>NaN</td>\n",
       "      <td>10.0</td>\n",
       "    </tr>\n",
       "  </tbody>\n",
       "</table>\n",
       "<p>5 rows × 51 columns</p>\n",
       "</div>"
      ],
      "text/plain": [
       "                    AUT  CMUNI CONEIX_ABASCAL CONEIX_CASADO CONEIX_IGLESIAS  \\\n",
       "0  Madrid, Comunidad de  28079             Sí            Sí              Sí   \n",
       "1  Madrid, Comunidad de  28079             Sí            Sí              Sí   \n",
       "2  Madrid, Comunidad de  28079             Sí            Sí              Sí   \n",
       "3               Galicia  99995             Sí            Sí              Sí   \n",
       "4  Madrid, Comunidad de  28079             Sí            Sí              Sí   \n",
       "\n",
       "  CONEIX_RIVERA CONEIX_SANCHEZ     CP  EDAT          EDATCOD     ...       \\\n",
       "0            Sí             Sí  28053    29  De 18 a 29 años     ...        \n",
       "1            Sí             Sí  28017    41  De 30 a 44 años     ...        \n",
       "2            Sí             Sí  28043    50  De 45 a 59 años     ...        \n",
       "3            Sí             Sí  36001    46  De 45 a 59 años     ...        \n",
       "4            No             Sí  28021    48  De 45 a 59 años     ...        \n",
       "\n",
       "   REC_GEN REGISTRO    SEXE  SIMP_GEN             TIP_TEL  VAL_ABASCAL  \\\n",
       "0       PP        4   Mujer        PP  Móviles aleatorios          4.0   \n",
       "1      C's        5   Mujer       C's  Móviles aleatorios          0.0   \n",
       "2  No votó        6  Hombre   Ninguno  Móviles aleatorios          5.0   \n",
       "3       PP       27   Mujer            Móviles aleatorios          2.0   \n",
       "4  No votó       28  Hombre            Móviles aleatorios          4.0   \n",
       "\n",
       "   VAL_CASADO  VAL_IGLESIAS  VAL_RIVERA  VAL_SANCHEZ  \n",
       "0         3.0           0.0         5.0          1.0  \n",
       "1         1.0           3.0         4.0          4.0  \n",
       "2         5.0           5.0        98.0          5.0  \n",
       "3         7.0           0.0         5.0          0.0  \n",
       "4         5.0           5.0         NaN         10.0  \n",
       "\n",
       "[5 rows x 51 columns]"
      ]
     },
     "execution_count": 19,
     "metadata": {},
     "output_type": "execute_result"
    }
   ],
   "source": [
    "Dades_2019.head()"
   ]
  },
  {
   "cell_type": "code",
   "execution_count": null,
   "metadata": {},
   "outputs": [],
   "source": []
  },
  {
   "cell_type": "code",
   "execution_count": null,
   "metadata": {},
   "outputs": [],
   "source": []
  },
  {
   "cell_type": "code",
   "execution_count": null,
   "metadata": {},
   "outputs": [],
   "source": []
  },
  {
   "cell_type": "markdown",
   "metadata": {},
   "source": [
    "### Sabemos que en las variables de valoración los 98 son No sabe y los 99 son No contesta. Vamos a tratar estos casos. Empezamos viendo qué variables tienen este problema i cuáles nos interesa tratar."
   ]
  },
  {
   "cell_type": "code",
   "execution_count": 20,
   "metadata": {
    "scrolled": true
   },
   "outputs": [
    {
     "data": {
      "text/plain": [
       "0      False\n",
       "1      False\n",
       "2      False\n",
       "3      False\n",
       "4      False\n",
       "5      False\n",
       "6      False\n",
       "7      False\n",
       "8      False\n",
       "9      False\n",
       "10     False\n",
       "11     False\n",
       "12     False\n",
       "13     False\n",
       "14     False\n",
       "15     False\n",
       "16     False\n",
       "17     False\n",
       "18     False\n",
       "19     False\n",
       "20     False\n",
       "21     False\n",
       "22     False\n",
       "23     False\n",
       "24     False\n",
       "25     False\n",
       "26      True\n",
       "27     False\n",
       "28     False\n",
       "29     False\n",
       "       ...  \n",
       "970    False\n",
       "971    False\n",
       "972    False\n",
       "973    False\n",
       "974    False\n",
       "975    False\n",
       "976    False\n",
       "977    False\n",
       "978    False\n",
       "979    False\n",
       "980    False\n",
       "981    False\n",
       "982    False\n",
       "983    False\n",
       "984    False\n",
       "985    False\n",
       "986    False\n",
       "987    False\n",
       "988    False\n",
       "989    False\n",
       "990    False\n",
       "991    False\n",
       "992    False\n",
       "993    False\n",
       "994    False\n",
       "995    False\n",
       "996    False\n",
       "997    False\n",
       "998     True\n",
       "999    False\n",
       "Name: ID_IDEOLOGIA, Length: 2000, dtype: bool"
      ]
     },
     "execution_count": 20,
     "metadata": {},
     "output_type": "execute_result"
    }
   ],
   "source": [
    "(Dades_2019['ID_IDEOLOGIA']).isin([99])"
   ]
  },
  {
   "cell_type": "markdown",
   "metadata": {},
   "source": [
    "### En realidad no nos interesa saber qué registros tienen 98 o 99, sino simplemente saber si hay alguno para aplicar algun método."
   ]
  },
  {
   "cell_type": "code",
   "execution_count": 21,
   "metadata": {},
   "outputs": [
    {
     "data": {
      "text/plain": [
       "False"
      ]
     },
     "execution_count": 21,
     "metadata": {},
     "output_type": "execute_result"
    }
   ],
   "source": [
    "(Dades_2019['ID_SEXE']).isin([98, 99]).any()"
   ]
  },
  {
   "cell_type": "code",
   "execution_count": 22,
   "metadata": {},
   "outputs": [
    {
     "data": {
      "text/plain": [
       "False"
      ]
     },
     "execution_count": 22,
     "metadata": {},
     "output_type": "execute_result"
    }
   ],
   "source": [
    "(Dades_2019['ID_EDATCOD']).isin([98, 99]).any()"
   ]
  },
  {
   "cell_type": "code",
   "execution_count": 23,
   "metadata": {},
   "outputs": [
    {
     "data": {
      "text/plain": [
       "True"
      ]
     },
     "execution_count": 23,
     "metadata": {},
     "output_type": "execute_result"
    }
   ],
   "source": [
    "(Dades_2019['VAL_CASADO']).isin([98, 99]).any()"
   ]
  },
  {
   "cell_type": "code",
   "execution_count": 24,
   "metadata": {},
   "outputs": [
    {
     "data": {
      "text/plain": [
       "count    1951.000000\n",
       "mean        7.656074\n",
       "std        19.074620\n",
       "min         0.000000\n",
       "25%         1.000000\n",
       "50%         4.000000\n",
       "75%         6.000000\n",
       "max        99.000000\n",
       "Name: VAL_CASADO, dtype: float64"
      ]
     },
     "execution_count": 24,
     "metadata": {},
     "output_type": "execute_result"
    }
   ],
   "source": [
    "Dades_2019['VAL_CASADO'].describe()"
   ]
  },
  {
   "cell_type": "code",
   "execution_count": 25,
   "metadata": {
    "scrolled": true
   },
   "outputs": [
    {
     "data": {
      "text/plain": [
       "0       3.0\n",
       "1       1.0\n",
       "2       5.0\n",
       "3       7.0\n",
       "4       5.0\n",
       "5       7.0\n",
       "6       1.0\n",
       "7       9.0\n",
       "8       0.0\n",
       "9       NaN\n",
       "10      6.0\n",
       "11      NaN\n",
       "12      5.0\n",
       "13      NaN\n",
       "14      8.0\n",
       "15      0.0\n",
       "16      6.0\n",
       "17      0.0\n",
       "18      7.0\n",
       "19      9.0\n",
       "20      0.0\n",
       "21      2.0\n",
       "22      4.0\n",
       "23      0.0\n",
       "24      4.0\n",
       "25      6.0\n",
       "26     98.0\n",
       "27     10.0\n",
       "28      7.0\n",
       "29      0.0\n",
       "       ... \n",
       "970    10.0\n",
       "971     8.0\n",
       "972     9.0\n",
       "973     8.0\n",
       "974     0.0\n",
       "975     2.0\n",
       "976     2.0\n",
       "977    10.0\n",
       "978     0.0\n",
       "979     2.0\n",
       "980     8.0\n",
       "981     0.0\n",
       "982     4.0\n",
       "983     0.0\n",
       "984     5.0\n",
       "985     1.0\n",
       "986     3.0\n",
       "987     8.0\n",
       "988     4.0\n",
       "989    98.0\n",
       "990     1.0\n",
       "991     8.0\n",
       "992     7.0\n",
       "993     2.0\n",
       "994     NaN\n",
       "995     0.0\n",
       "996     5.0\n",
       "997     2.0\n",
       "998     0.0\n",
       "999     0.0\n",
       "Name: VAL_CASADO, Length: 2000, dtype: float64"
      ]
     },
     "execution_count": 25,
     "metadata": {},
     "output_type": "execute_result"
    }
   ],
   "source": [
    "(Dades_2019['VAL_CASADO'])[::1]"
   ]
  },
  {
   "cell_type": "markdown",
   "metadata": {},
   "source": [
    "### A aquellos casos donde haya 98 o 99 les pondremos el valor de la media total por columna."
   ]
  },
  {
   "cell_type": "code",
   "execution_count": 26,
   "metadata": {},
   "outputs": [
    {
     "ename": "SyntaxError",
     "evalue": "invalid syntax (<ipython-input-26-db2d3dd1b902>, line 2)",
     "output_type": "error",
     "traceback": [
      "\u001b[1;36m  File \u001b[1;32m\"<ipython-input-26-db2d3dd1b902>\"\u001b[1;36m, line \u001b[1;32m2\u001b[0m\n\u001b[1;33m    if :\u001b[0m\n\u001b[1;37m       ^\u001b[0m\n\u001b[1;31mSyntaxError\u001b[0m\u001b[1;31m:\u001b[0m invalid syntax\n"
     ]
    }
   ],
   "source": [
    "def mean_val():\n",
    "    if :\n",
    "        return "
   ]
  },
  {
   "cell_type": "code",
   "execution_count": null,
   "metadata": {},
   "outputs": [],
   "source": []
  },
  {
   "cell_type": "code",
   "execution_count": null,
   "metadata": {},
   "outputs": [],
   "source": []
  },
  {
   "cell_type": "code",
   "execution_count": null,
   "metadata": {},
   "outputs": [],
   "source": []
  },
  {
   "cell_type": "code",
   "execution_count": 27,
   "metadata": {},
   "outputs": [],
   "source": [
    "Dades_2019.VAL_CASADO = np.where(Dades_2019.VAL_CASADO.isin([98, 99]), Dades_2019.VAL_CASADO.mean(), Dades_2019.VAL_CASADO)"
   ]
  },
  {
   "cell_type": "code",
   "execution_count": 28,
   "metadata": {
    "scrolled": true
   },
   "outputs": [
    {
     "data": {
      "text/plain": [
       "0       3.000000\n",
       "1       1.000000\n",
       "2       5.000000\n",
       "3       7.000000\n",
       "4       5.000000\n",
       "5       7.000000\n",
       "6       1.000000\n",
       "7       9.000000\n",
       "8       0.000000\n",
       "9            NaN\n",
       "10      6.000000\n",
       "11           NaN\n",
       "12      5.000000\n",
       "13           NaN\n",
       "14      8.000000\n",
       "15      0.000000\n",
       "16      6.000000\n",
       "17      0.000000\n",
       "18      7.000000\n",
       "19      9.000000\n",
       "20      0.000000\n",
       "21      2.000000\n",
       "22      4.000000\n",
       "23      0.000000\n",
       "24      4.000000\n",
       "25      6.000000\n",
       "26      7.656074\n",
       "27     10.000000\n",
       "28      7.000000\n",
       "29      0.000000\n",
       "         ...    \n",
       "970    10.000000\n",
       "971     8.000000\n",
       "972     9.000000\n",
       "973     8.000000\n",
       "974     0.000000\n",
       "975     2.000000\n",
       "976     2.000000\n",
       "977    10.000000\n",
       "978     0.000000\n",
       "979     2.000000\n",
       "980     8.000000\n",
       "981     0.000000\n",
       "982     4.000000\n",
       "983     0.000000\n",
       "984     5.000000\n",
       "985     1.000000\n",
       "986     3.000000\n",
       "987     8.000000\n",
       "988     4.000000\n",
       "989     7.656074\n",
       "990     1.000000\n",
       "991     8.000000\n",
       "992     7.000000\n",
       "993     2.000000\n",
       "994          NaN\n",
       "995     0.000000\n",
       "996     5.000000\n",
       "997     2.000000\n",
       "998     0.000000\n",
       "999     0.000000\n",
       "Name: VAL_CASADO, Length: 2000, dtype: float64"
      ]
     },
     "execution_count": 28,
     "metadata": {},
     "output_type": "execute_result"
    }
   ],
   "source": [
    "(Dades_2019['VAL_CASADO'])[::1]"
   ]
  },
  {
   "cell_type": "code",
   "execution_count": 29,
   "metadata": {},
   "outputs": [],
   "source": [
    "### Hagamos lo mismo con el resto de valoraciones de políticos"
   ]
  },
  {
   "cell_type": "code",
   "execution_count": 30,
   "metadata": {},
   "outputs": [],
   "source": [
    "Dades_2019.VAL_RIVERA = np.where(Dades_2019.VAL_RIVERA.isin([98, 99]), Dades_2019.VAL_RIVERA.mean(), Dades_2019.VAL_RIVERA)\n",
    "Dades_2019.VAL_SANCHEZ = np.where(Dades_2019.VAL_SANCHEZ.isin([98, 99]), Dades_2019.VAL_SANCHEZ.mean(), Dades_2019.VAL_SANCHEZ)\n",
    "Dades_2019.VAL_IGLESIAS = np.where(Dades_2019.VAL_IGLESIAS.isin([98, 99]), Dades_2019.VAL_IGLESIAS.mean(), Dades_2019.VAL_IGLESIAS)\n",
    "Dades_2019.VAL_ABASCAL = np.where(Dades_2019.VAL_ABASCAL.isin([98, 99]), Dades_2019.VAL_ABASCAL.mean(), Dades_2019.VAL_ABASCAL)"
   ]
  },
  {
   "cell_type": "code",
   "execution_count": 31,
   "metadata": {},
   "outputs": [],
   "source": [
    "### Veamos si a parte de 98 y 99 tenemos nulos"
   ]
  },
  {
   "cell_type": "code",
   "execution_count": 32,
   "metadata": {
    "scrolled": true
   },
   "outputs": [
    {
     "data": {
      "text/plain": [
       "AUT                      0\n",
       "CMUNI                    0\n",
       "CONEIX_ABASCAL           0\n",
       "CONEIX_CASADO            0\n",
       "CONEIX_IGLESIAS          0\n",
       "CONEIX_RIVERA            0\n",
       "CONEIX_SANCHEZ           0\n",
       "CP                       0\n",
       "EDAT                     0\n",
       "EDATCOD                  0\n",
       "ESTUDIS                  0\n",
       "HABI                     0\n",
       "IDEOLOGIA                0\n",
       "ID_AUT                   0\n",
       "ID_CONEIX_ABASCAL        0\n",
       "ID_CONEIX_CASADO         0\n",
       "ID_CONEIX_IGLESIAS       0\n",
       "ID_CONEIX_RIVERA         0\n",
       "ID_CONEIX_SANCHEZ        0\n",
       "ID_CONTACTO              0\n",
       "ID_EDATCOD               0\n",
       "ID_ESTUDIS               0\n",
       "ID_HABI                  0\n",
       "ID_IDEOLOGIA             0\n",
       "ID_IMP_ELEC              0\n",
       "ID_INT_GEN               0\n",
       "ID_INT_SIMP_GEN          0\n",
       "ID_OCUPACIO              0\n",
       "ID_PERTINEN              0\n",
       "ID_PREFER_POLITIC        0\n",
       "ID_PROB_VOT_GEN          0\n",
       "ID_REC_GEN               0\n",
       "ID_SEXE                  0\n",
       "ID_SIMP_GEN           1287\n",
       "IMP_ELEC                 0\n",
       "INT_GEN                  0\n",
       "INT_SIMP_GEN             0\n",
       "OCUPACIO                 0\n",
       "PERTINEN                 0\n",
       "PREFER_POLITIC           0\n",
       "PROB_VOT_GEN             0\n",
       "REC_GEN                  0\n",
       "REGISTRO                 0\n",
       "SEXE                     0\n",
       "SIMP_GEN                 0\n",
       "TIP_TEL                  0\n",
       "VAL_ABASCAL            244\n",
       "VAL_CASADO              49\n",
       "VAL_IGLESIAS            12\n",
       "VAL_RIVERA              27\n",
       "VAL_SANCHEZ              3\n",
       "dtype: int64"
      ]
     },
     "execution_count": 32,
     "metadata": {},
     "output_type": "execute_result"
    }
   ],
   "source": [
    "Dades_2019.isnull().sum(axis=0)"
   ]
  },
  {
   "cell_type": "markdown",
   "metadata": {},
   "source": [
    "### Vemos que también tenemos valores nulos en estas preguntas de valoración de los políticos, así que los quitamos también"
   ]
  },
  {
   "cell_type": "code",
   "execution_count": 33,
   "metadata": {},
   "outputs": [],
   "source": [
    "Dades_2019.VAL_CASADO = np.where(Dades_2019.VAL_CASADO.isnull(), Dades_2019.VAL_CASADO.mean(), Dades_2019.VAL_CASADO)\n",
    "Dades_2019.VAL_RIVERA = np.where(Dades_2019.VAL_RIVERA.isnull(), Dades_2019.VAL_RIVERA.mean(), Dades_2019.VAL_RIVERA)\n",
    "Dades_2019.VAL_SANCHEZ = np.where(Dades_2019.VAL_SANCHEZ.isnull(), Dades_2019.VAL_SANCHEZ.mean(), Dades_2019.VAL_SANCHEZ)\n",
    "Dades_2019.VAL_IGLESIAS = np.where(Dades_2019.VAL_IGLESIAS.isnull(), Dades_2019.VAL_IGLESIAS.mean(), Dades_2019.VAL_IGLESIAS)\n",
    "Dades_2019.VAL_ABASCAL = np.where(Dades_2019.VAL_ABASCAL.isnull(), Dades_2019.VAL_ABASCAL.mean(), Dades_2019.VAL_ABASCAL)"
   ]
  },
  {
   "cell_type": "code",
   "execution_count": 34,
   "metadata": {
    "scrolled": true
   },
   "outputs": [
    {
     "data": {
      "text/plain": [
       "AUT                      0\n",
       "CMUNI                    0\n",
       "CONEIX_ABASCAL           0\n",
       "CONEIX_CASADO            0\n",
       "CONEIX_IGLESIAS          0\n",
       "CONEIX_RIVERA            0\n",
       "CONEIX_SANCHEZ           0\n",
       "CP                       0\n",
       "EDAT                     0\n",
       "EDATCOD                  0\n",
       "ESTUDIS                  0\n",
       "HABI                     0\n",
       "IDEOLOGIA                0\n",
       "ID_AUT                   0\n",
       "ID_CONEIX_ABASCAL        0\n",
       "ID_CONEIX_CASADO         0\n",
       "ID_CONEIX_IGLESIAS       0\n",
       "ID_CONEIX_RIVERA         0\n",
       "ID_CONEIX_SANCHEZ        0\n",
       "ID_CONTACTO              0\n",
       "ID_EDATCOD               0\n",
       "ID_ESTUDIS               0\n",
       "ID_HABI                  0\n",
       "ID_IDEOLOGIA             0\n",
       "ID_IMP_ELEC              0\n",
       "ID_INT_GEN               0\n",
       "ID_INT_SIMP_GEN          0\n",
       "ID_OCUPACIO              0\n",
       "ID_PERTINEN              0\n",
       "ID_PREFER_POLITIC        0\n",
       "ID_PROB_VOT_GEN          0\n",
       "ID_REC_GEN               0\n",
       "ID_SEXE                  0\n",
       "ID_SIMP_GEN           1287\n",
       "IMP_ELEC                 0\n",
       "INT_GEN                  0\n",
       "INT_SIMP_GEN             0\n",
       "OCUPACIO                 0\n",
       "PERTINEN                 0\n",
       "PREFER_POLITIC           0\n",
       "PROB_VOT_GEN             0\n",
       "REC_GEN                  0\n",
       "REGISTRO                 0\n",
       "SEXE                     0\n",
       "SIMP_GEN                 0\n",
       "TIP_TEL                  0\n",
       "VAL_ABASCAL              0\n",
       "VAL_CASADO               0\n",
       "VAL_IGLESIAS             0\n",
       "VAL_RIVERA               0\n",
       "VAL_SANCHEZ              0\n",
       "dtype: int64"
      ]
     },
     "execution_count": 34,
     "metadata": {},
     "output_type": "execute_result"
    }
   ],
   "source": [
    "Dades_2019.isnull().sum(axis=0)"
   ]
  },
  {
   "cell_type": "code",
   "execution_count": null,
   "metadata": {},
   "outputs": [],
   "source": []
  },
  {
   "cell_type": "code",
   "execution_count": null,
   "metadata": {},
   "outputs": [],
   "source": []
  },
  {
   "cell_type": "code",
   "execution_count": 35,
   "metadata": {},
   "outputs": [],
   "source": [
    "### Empecemos viendo qué partidos aparecen en la intención de voto de las elecciones generales y su número de votos"
   ]
  },
  {
   "cell_type": "code",
   "execution_count": 36,
   "metadata": {},
   "outputs": [
    {
     "data": {
      "text/plain": [
       "No sabe                     428\n",
       "PSOE                        416\n",
       "PP                          217\n",
       "C's                         185\n",
       "Vox                         156\n",
       "No contesta                 131\n",
       "No votaría                  101\n",
       "ERC                          79\n",
       "Unidas Podemos               67\n",
       "Unidos Podemos               47\n",
       "En blanco                    34\n",
       "En Comú Podem                23\n",
       "PNV                          20\n",
       "Nulo                         19\n",
       "Otro partido                 19\n",
       "EH Bildu                     15\n",
       "Compromís + Podemos + IU     10\n",
       "En marea                      8\n",
       "JxCat                         6\n",
       "PACMA                         6\n",
       "PDECat                        6\n",
       "Front Republicà               3\n",
       "CC                            2\n",
       "Compromís                     2\n",
       "Name: INT_GEN, dtype: int64"
      ]
     },
     "execution_count": 36,
     "metadata": {},
     "output_type": "execute_result"
    }
   ],
   "source": [
    "Dades_2019.INT_GEN.value_counts()"
   ]
  },
  {
   "cell_type": "code",
   "execution_count": 37,
   "metadata": {},
   "outputs": [],
   "source": [
    "### GRÁFICOS"
   ]
  },
  {
   "cell_type": "code",
   "execution_count": null,
   "metadata": {},
   "outputs": [],
   "source": []
  },
  {
   "cell_type": "code",
   "execution_count": null,
   "metadata": {},
   "outputs": [],
   "source": []
  },
  {
   "cell_type": "code",
   "execution_count": null,
   "metadata": {},
   "outputs": [],
   "source": []
  },
  {
   "cell_type": "code",
   "execution_count": null,
   "metadata": {},
   "outputs": [],
   "source": []
  },
  {
   "cell_type": "code",
   "execution_count": 38,
   "metadata": {},
   "outputs": [],
   "source": [
    "#df.rename(columns={'ORIGIN_AIRPORT_ID':'OriginAirport_IDNum', \n",
    "#                  'ORIGIN_CITY_MARKET_ID':'OriginCityMarket_IDNum', \n",
    "#                  'ORIGIN':'Origin_IATA',\n",
    "#                  'ORIGIN_CITY_NAME':'OriginCityName',\n",
    "#                  'ORIGIN_STATE_ABR':'OriginState_ID',\n",
    "#                  'ORIGIN_STATE_NM':'OriginStateName',\n",
    "#                  'ORIGIN_WAC':'OriginWAC'}\n",
    "#          , inplace=True)"
   ]
  },
  {
   "cell_type": "code",
   "execution_count": 39,
   "metadata": {},
   "outputs": [
    {
     "data": {
      "image/png": "[encoded data removed]",
      "text/plain": [
       "<Figure size 432x288 with 1 Axes>"
      ]
     },
     "metadata": {},
     "output_type": "display_data"
    }
   ],
   "source": [
    "plt.hist(Dades_2019['ID_SEXE'], bins=max(Dades_2019['ID_SEXE']) +1)\n",
    "plt.title('Título')\n",
    "plt.xlabel('x')\n",
    "plt.ylabel('y')\n",
    "plt.show()"
   ]
  },
  {
   "cell_type": "code",
   "execution_count": 40,
   "metadata": {},
   "outputs": [
    {
     "data": {
      "image/png": "[encoded data removed]",
      "text/plain": [
       "<Figure size 432x288 with 1 Axes>"
      ]
     },
     "metadata": {},
     "output_type": "display_data"
    }
   ],
   "source": [
    "Dades_2019['ID_EDATCOD'].plot(kind='hist')\n",
    "plt.title('Título')\n",
    "plt.xlabel('x')\n",
    "plt.ylabel('y')\n",
    "plt.show()"
   ]
  },
  {
   "cell_type": "code",
   "execution_count": 41,
   "metadata": {},
   "outputs": [
    {
     "data": {
      "image/png": "[encoded data removed]",
      "text/plain": [
       "<Figure size 432x288 with 1 Axes>"
      ]
     },
     "metadata": {},
     "output_type": "display_data"
    }
   ],
   "source": [
    "plt.hist(Dades_2019['ID_EDATCOD'], bins=max(Dades_2019['ID_EDATCOD']) +1)\n",
    "plt.title('Título')\n",
    "plt.xlabel('x')\n",
    "plt.ylabel('y')\n",
    "plt.show()"
   ]
  },
  {
   "cell_type": "code",
   "execution_count": 42,
   "metadata": {},
   "outputs": [
    {
     "data": {
      "text/plain": [
       "<matplotlib.axes._subplots.AxesSubplot at 0x2a7f860dbe0>"
      ]
     },
     "execution_count": 42,
     "metadata": {},
     "output_type": "execute_result"
    },
    {
     "data": {
      "image/png": "[encoded data removed]",
      "text/plain": [
       "<Figure size 432x288 with 1 Axes>"
      ]
     },
     "metadata": {},
     "output_type": "display_data"
    }
   ],
   "source": [
    "Dades_2019['ID_AUT'].plot()"
   ]
  },
  {
   "cell_type": "code",
   "execution_count": 43,
   "metadata": {},
   "outputs": [
    {
     "data": {
      "image/png": "[encoded data removed]",
      "text/plain": [
       "<Figure size 432x288 with 1 Axes>"
      ]
     },
     "metadata": {},
     "output_type": "display_data"
    }
   ],
   "source": [
    "Dades_2019[['ID_INT_GEN', 'ID_REC_GEN']].plot()\n",
    "plt.show()"
   ]
  },
  {
   "cell_type": "code",
   "execution_count": null,
   "metadata": {},
   "outputs": [],
   "source": []
  },
  {
   "cell_type": "code",
   "execution_count": null,
   "metadata": {},
   "outputs": [],
   "source": []
  },
  {
   "cell_type": "code",
   "execution_count": null,
   "metadata": {},
   "outputs": [],
   "source": []
  },
  {
   "cell_type": "code",
   "execution_count": null,
   "metadata": {},
   "outputs": [],
   "source": []
  },
  {
   "cell_type": "code",
   "execution_count": null,
   "metadata": {},
   "outputs": [],
   "source": []
  },
  {
   "cell_type": "code",
   "execution_count": null,
   "metadata": {},
   "outputs": [],
   "source": []
  },
  {
   "cell_type": "code",
   "execution_count": null,
   "metadata": {},
   "outputs": [],
   "source": []
  },
  {
   "cell_type": "code",
   "execution_count": null,
   "metadata": {},
   "outputs": [],
   "source": []
  },
  {
   "cell_type": "code",
   "execution_count": null,
   "metadata": {},
   "outputs": [],
   "source": []
  },
  {
   "cell_type": "code",
   "execution_count": null,
   "metadata": {},
   "outputs": [],
   "source": []
  },
  {
   "cell_type": "code",
   "execution_count": 44,
   "metadata": {},
   "outputs": [],
   "source": [
    "#fig, ax = plt.subplots()\n",
    "#ax.hist('edatcod', bins=5)\n",
    "#plt.show()"
   ]
  },
  {
   "cell_type": "code",
   "execution_count": 45,
   "metadata": {},
   "outputs": [],
   "source": [
    "Dades_2019.to_csv('Enquestes2019.csv', sep=';', header=1, encoding='latin-1')"
   ]
  },
  {
   "cell_type": "code",
   "execution_count": null,
   "metadata": {},
   "outputs": [],
   "source": []
  }
 ],
 "metadata": {
  "kernelspec": {
   "display_name": "Python 3",
   "language": "python",
   "name": "python3"
  },
  "language_info": {
   "codemirror_mode": {
    "name": "ipython",
    "version": 3
   },
   "file_extension": ".py",
   "mimetype": "text/x-python",
   "name": "python",
   "nbconvert_exporter": "python",
   "pygments_lexer": "ipython3",
   "version": "3.6.5"
  }
 },
 "nbformat": 4,
 "nbformat_minor": 2
}
